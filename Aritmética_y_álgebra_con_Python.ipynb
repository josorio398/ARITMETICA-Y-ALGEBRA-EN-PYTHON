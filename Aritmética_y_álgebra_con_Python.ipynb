{
  "nbformat": 4,
  "nbformat_minor": 0,
  "metadata": {
    "colab": {
      "name": "Aritmética y álgebra con Python.ipynb",
      "provenance": [],
      "collapsed_sections": [],
      "include_colab_link": true
    },
    "kernelspec": {
      "name": "python3",
      "display_name": "Python 3"
    }
  },
  "cells": [
    {
      "cell_type": "markdown",
      "metadata": {
        "id": "view-in-github",
        "colab_type": "text"
      },
      "source": [
        "<a href=\"https://colab.research.google.com/github/josorio398/ARITMETICA-Y-ALGEBRA-EN-PYTHON/blob/master/Aritm%C3%A9tica_y_%C3%A1lgebra_con_Python.ipynb\" target=\"_parent\"><img src=\"https://colab.research.google.com/assets/colab-badge.svg\" alt=\"Open In Colab\"/></a>"
      ]
    },
    {
      "cell_type": "markdown",
      "metadata": {
        "id": "RVxHpsbcExUD"
      },
      "source": [
        "<p><img alt=\"logo.fua\" height=\"100px\" src=\"https://www.uamerica.edu.co/wp-content/images/escudo.png\" align=\"left\" hspace=\"10px\" vspace=\"20px\"></p>\n",
        "\n",
        "<p style=\"text-align: justify;\"><a rel=\"license\" href=\"http://creativecommons.org/licenses/by-nd/4.0/\"><img alt=\"Licencia Creative Commons\" style=\"border-width: 0;\" align=\"right\" height=\"26px\" src=\"https://mirrors.creativecommons.org/presskit/buttons/88x31/svg/by-nd.svg\" hspace=\"0px\" vspace=\"27px\"/></a><br /><span xmlns:dct=\"http://purl.org/dc/terms/\" href=\"http://purl.org/dc/dcmitype/InteractiveResource\"</p>\n",
        "\n",
        "# <center> <font size=\"6\">**ARITMÉTICA Y ÁLGEBRA CON PYTHON** <center>*Jhonny Osorio Gallego &nbsp; &nbsp; &nbsp;<p>*</font> \n",
        "\n"
      ]
    },
    {
      "cell_type": "markdown",
      "metadata": {
        "id": "GlxXeL5VUpio"
      },
      "source": [
        "<H7><span xmlns:dct=\"http://purl.org/dc/terms/\" href=\"http://purl.org/dc/dcmitype/InteractiveResource\" property=\"dct:title\" rel=\"dct:type\">ARITM&Eacute;TICA Y &Aacute;LGEBRA CON PYTHON</span> por <a xmlns:cc=\"http://creativecommons.org/ns#\" href=\"https://chat.whatsapp.com/J4jXLxEcBMC64Oy8FcQUzy\" property=\"cc:attributionName\" rel=\"cc:attributionURL\">Jhonny Osorio Gallego</a> se distribuye bajo una <a rel=\"license\" href=\"http://creativecommons.org/licenses/by-nd/4.0/\">Licencia Creative Commons Atribuci&oacute;n-SinDerivadas 4.0 Internacional</a>.Basada en una obra en <a href=\"https://www.sympy.org/es/\">https://www.sympy.org/es/</a>.Permisos m&aacute;s all&aacute; del alcance de esta licencia pueden estar disponibles en&nbsp;<a xmlns:cc=\"http://creativecommons.org/ns#\" href=\"https://colab.research.google.com/drive/10LBu5b70ot6G3hQQYT51d3Uj51r7qC8C?usp=sharing\" rel=\"cc:morePermissions\">https://colab.research.google.com/drive/10LBu5b70ot6G3hQQYT51d3Uj51r7qC8C?usp=sharing</a>.</H1>"
      ]
    },
    {
      "cell_type": "markdown",
      "metadata": {
        "id": "pELON3yz_46g"
      },
      "source": [
        "#**ARITMÉTICA Y ÁLGEBRA EN MÓDULO SYMPY**"
      ]
    },
    {
      "cell_type": "markdown",
      "metadata": {
        "id": "U515Q-sM2m9k"
      },
      "source": [
        "##**LIBRERÍA SIMBÓLICA SYMPY**\n",
        "\n",
        "**SymPy** es una biblioteca de Python para matemáticas simbólicas. Su objetivo es convertirse en un sistema de álgebra computacional (CAS) con todas las funciones, manteniendo el código lo más simple posible para que sea comprensible y fácilmente extensible. SymPy está escrito completamente en Python. [sympy.org](https://www.sympy.org/en/index.html)"
      ]
    },
    {
      "cell_type": "code",
      "metadata": {
        "id": "4wHJ9dZ3405h"
      },
      "source": [
        "from sympy import *\n",
        "init_printing() \n",
        "x,y,z,q = symbols(\"x y z q\")"
      ],
      "execution_count": null,
      "outputs": []
    },
    {
      "cell_type": "markdown",
      "metadata": {
        "id": "N4nHfCJUG7x5"
      },
      "source": [
        "#**OPERACIONES BÁSICAS**"
      ]
    },
    {
      "cell_type": "markdown",
      "metadata": {
        "id": "6s99Kr2-Faqp"
      },
      "source": [
        "# **Operadores numéricos**\n",
        "Python tiene la capacidad de realizar cálculos, a continuación se presentan las operaciones con su operador correspondiente, la asociatividad y precedencia."
      ]
    },
    {
      "cell_type": "markdown",
      "metadata": {
        "id": "otHErDXuFhO_"
      },
      "source": [
        "#### <center> **TABLA DE OPERADORES NUMÉRICOS** </center>\n",
        "\n",
        "|    Operación    | Operador |      Asociatividad     | Precedencia |\n",
        "|:---------------:|:--------:|:----------------------:|:-----------:|\n",
        "|  Potenciación   |    **    | De derecha a izquierda |      1      |\n",
        "|  Multiplicación |     *    | De izquierda a derecha |      2      |\n",
        "|     División real   |     /    | De izquierda a derecha |      2      |\n",
        "| División entera |    //    | De izquierda a derecha |      2      |\n",
        "|  Módulo o Resto |     %    | De izquierda a derecha |      2      |\n",
        "|       Suma      |     +    | De izquierda a derecha |      3      |\n",
        "|      Resta      |     -    | De izquierda a derecha |      3      |"
      ]
    },
    {
      "cell_type": "markdown",
      "metadata": {
        "id": "t8qPlTtmrTpo"
      },
      "source": [
        "#**Operaciones con enteros**\n",
        "Calcular el valor de la siguiente expresión:\n",
        "$$(5 - 4)(5^3) +(6 \\div 2)$$"
      ]
    },
    {
      "cell_type": "code",
      "metadata": {
        "id": "v0CBq9eHrgTT",
        "colab": {
          "base_uri": "https://localhost:8080/",
          "height": 37
        },
        "outputId": "55c250bd-6414-4c63-e91c-29c1bb4b9e93"
      },
      "source": [
        "(5 - 4)*(5**3) + (6 / 2)"
      ],
      "execution_count": null,
      "outputs": [
        {
          "output_type": "execute_result",
          "data": {
            "image/png": "[encoded data removed]",
            "text/latex": "$$128.0$$",
            "text/plain": [
              "128.0"
            ]
          },
          "metadata": {
            "tags": []
          },
          "execution_count": 31
        }
      ]
    },
    {
      "cell_type": "markdown",
      "metadata": {
        "id": "s70MybdYyA3p"
      },
      "source": [
        "#**Operaciones con fracciones**\n",
        "\n",
        "\n",
        "Calcular el valor de la siguiente expresión:\n",
        "\n",
        "$$ \\left(\\dfrac{1}{2} \\right)  \\left(\\dfrac{3}{4}\\right) + \\dfrac{7}{9} - 3$$"
      ]
    },
    {
      "cell_type": "markdown",
      "metadata": {
        "id": "fyrFgR0zFQk2"
      },
      "source": [
        "#### **Forma 1:** "
      ]
    },
    {
      "cell_type": "code",
      "metadata": {
        "id": "oRc3qqyXyEog",
        "colab": {
          "base_uri": "https://localhost:8080/",
          "height": 37
        },
        "outputId": "59c05095-6383-41da-eabf-aeab777c1909"
      },
      "source": [
        " 1 / 2  *  3 / 4   +  7 / 9  -  3"
      ],
      "execution_count": null,
      "outputs": [
        {
          "output_type": "execute_result",
          "data": {
            "image/png": "[encoded data removed]",
            "text/latex": "$$-1.8472222222222223$$",
            "text/plain": [
              "-1.8472222222222223"
            ]
          },
          "metadata": {
            "tags": []
          },
          "execution_count": 3
        }
      ]
    },
    {
      "cell_type": "markdown",
      "metadata": {
        "id": "0C4vDRydE4KO"
      },
      "source": [
        "#### **Forma 2:** usando la función **Rational** de **SymPy**."
      ]
    },
    {
      "cell_type": "code",
      "metadata": {
        "id": "Hcs0Cpzn1OAj",
        "colab": {
          "base_uri": "https://localhost:8080/",
          "height": 38
        },
        "outputId": "ee7b9139-ef8a-45ba-a608-0438c664a308"
      },
      "source": [
        "Rational(\"1/2\") * Rational(\"3/4\") + Rational(\"7/9\") - 3"
      ],
      "execution_count": null,
      "outputs": [
        {
          "output_type": "execute_result",
          "data": {
            "image/png": "[encoded data removed]",
            "text/latex": "$$- \\frac{133}{72}$$",
            "text/plain": [
              "-133 \n",
              "─────\n",
              "  72 "
            ]
          },
          "metadata": {
            "tags": []
          },
          "execution_count": 16
        }
      ]
    },
    {
      "cell_type": "code",
      "metadata": {
        "colab": {
          "base_uri": "https://localhost:8080/",
          "height": 38
        },
        "id": "dFB1p_ILG0jj",
        "outputId": "a7b77f7f-4acb-4c67-a36b-663ceba3348e"
      },
      "source": [
        "Rational(1,2) * Rational(3,4) + Rational(7,9) - 3"
      ],
      "execution_count": null,
      "outputs": [
        {
          "output_type": "execute_result",
          "data": {
            "image/png": "[encoded data removed]",
            "text/latex": "$$- \\frac{133}{72}$$",
            "text/plain": [
              "-133 \n",
              "─────\n",
              "  72 "
            ]
          },
          "metadata": {
            "tags": []
          },
          "execution_count": 5
        }
      ]
    },
    {
      "cell_type": "markdown",
      "metadata": {
        "id": "N5C1yknyHBIr"
      },
      "source": [
        "#### **Forma 2:** usando la función singleton **S( )** de **SymPy**."
      ]
    },
    {
      "cell_type": "code",
      "metadata": {
        "colab": {
          "base_uri": "https://localhost:8080/",
          "height": 38
        },
        "id": "_v_GpTBzE_E5",
        "outputId": "72afdd19-59d8-4c7a-e18e-aae9f6652356"
      },
      "source": [
        "S(\"1/2\") * S(\"3/4\") + S(\"7/9\") - 3"
      ],
      "execution_count": null,
      "outputs": [
        {
          "output_type": "execute_result",
          "data": {
            "image/png": "[encoded data removed]",
            "text/latex": "$$- \\frac{133}{72}$$",
            "text/plain": [
              "-133 \n",
              "─────\n",
              "  72 "
            ]
          },
          "metadata": {
            "tags": []
          },
          "execution_count": 8
        }
      ]
    },
    {
      "cell_type": "markdown",
      "metadata": {
        "id": "RSe_cp6zHiFP"
      },
      "source": [
        "# **Operaciones con números irracionales**\n",
        "Simplifica la siguiente expresión:\n",
        "\n",
        "$$\\pi + 2\\sqrt{2}-3\\sqrt{2}-e^2$$"
      ]
    },
    {
      "cell_type": "code",
      "metadata": {
        "id": "lO6lf_arHoec",
        "colab": {
          "base_uri": "https://localhost:8080/",
          "height": 38
        },
        "outputId": "4a6090f8-9dbd-42b9-cfad-f9ab1b75fa25"
      },
      "source": [
        "pi + 2*sqrt(2)-3*sqrt(2) +E**2"
      ],
      "execution_count": null,
      "outputs": [
        {
          "output_type": "execute_result",
          "data": {
            "image/png": "[encoded data removed]",
            "text/latex": "$$- \\sqrt{2} + \\pi + e^{2}$$",
            "text/plain": [
              "           2\n",
              "-√2 + π + ℯ "
            ]
          },
          "metadata": {
            "tags": []
          },
          "execution_count": 5
        }
      ]
    },
    {
      "cell_type": "markdown",
      "metadata": {
        "id": "ZkHwJBvAIUPs"
      },
      "source": [
        "# **Radicación**\n",
        "\n",
        "### **Ejemplo 1**\n",
        "\n",
        "Calcula el valor de la siguiente expresión:\n",
        "\n",
        "$$\\dfrac{\\sqrt[3]{27}+\\sqrt[4]{16}}{\\sqrt[3]{64}\\sqrt{1000}}$$"
      ]
    },
    {
      "cell_type": "code",
      "metadata": {
        "id": "4ClTOlzmJ0Ar",
        "colab": {
          "base_uri": "https://localhost:8080/",
          "height": 40
        },
        "outputId": "aad183fb-6d76-49c6-a848-a8c289e70433"
      },
      "source": [
        "(root(27,3) + root(16,4))/(root(64,3)*root(1000,2))"
      ],
      "execution_count": null,
      "outputs": [
        {
          "output_type": "execute_result",
          "data": {
            "image/png": "[encoded data removed]",
            "text/latex": "$$\\frac{\\sqrt{10}}{80}$$",
            "text/plain": [
              "√10\n",
              "───\n",
              " 80"
            ]
          },
          "metadata": {
            "tags": []
          },
          "execution_count": 32
        }
      ]
    },
    {
      "cell_type": "markdown",
      "metadata": {
        "id": "tEk7lt2zeHDe"
      },
      "source": [
        "### **Ejemplo 2**\n",
        "\n",
        "Simplifica la siguiente expresión donde $x$ pertenece al conjunto de los números reales:\n",
        "\n",
        "$$\\sqrt{x^2}$$"
      ]
    },
    {
      "cell_type": "code",
      "metadata": {
        "id": "m2DIHR6YHa-g",
        "colab": {
          "base_uri": "https://localhost:8080/",
          "height": 38
        },
        "outputId": "337e4e60-d810-4c27-fdcf-04604159bf0a"
      },
      "source": [
        "x,y = symbols(\"x y \", real= True)\n",
        "root(x**2,2)"
      ],
      "execution_count": null,
      "outputs": [
        {
          "output_type": "execute_result",
          "data": {
            "image/png": "[encoded data removed]",
            "text/latex": "$$\\left|{x}\\right|$$",
            "text/plain": [
              "│x│"
            ]
          },
          "metadata": {
            "tags": []
          },
          "execution_count": 8
        }
      ]
    },
    {
      "cell_type": "markdown",
      "metadata": {
        "id": "33nZQycTe35H"
      },
      "source": [
        "### **Ejemplo 3**\n",
        "\n",
        "Simplifica la siguiente expresión siendo $x$  un número positivo:\n",
        "\n",
        "$$\\sqrt{x^2}$$"
      ]
    },
    {
      "cell_type": "code",
      "metadata": {
        "id": "TWZWYTc_hU8U",
        "colab": {
          "base_uri": "https://localhost:8080/",
          "height": 40
        },
        "outputId": "2445cc65-b817-4d33-d2d3-aaff0a172a61"
      },
      "source": [
        "x = Symbol(\"x\", positive= True)\n",
        "root(x**2,2)"
      ],
      "execution_count": null,
      "outputs": [
        {
          "output_type": "execute_result",
          "data": {
            "image/png": "[encoded data removed]",
            "text/latex": "$$x$$",
            "text/plain": [
              "x"
            ]
          },
          "metadata": {
            "tags": []
          },
          "execution_count": 6
        }
      ]
    },
    {
      "cell_type": "markdown",
      "metadata": {
        "id": "P32KeD6jcy9N"
      },
      "source": [
        "### **Ejemplo 4**\n",
        "\n",
        "Cálcula el valor de la siguiente expresión:\n",
        "\n",
        "$$\\sqrt[4]{\\dfrac{3a^6b^5}{16a^{-6}b^{13}}}$$"
      ]
    },
    {
      "cell_type": "code",
      "metadata": {
        "id": "JhkG3Pd3zj_6",
        "colab": {
          "base_uri": "https://localhost:8080/",
          "height": 44
        },
        "outputId": "1131d5e0-fda1-4376-8752-3971798f0608"
      },
      "source": [
        "a,b = symbols(\"a b\",positive=True)\n",
        "root(3*a**6*b**5/16*a**-6*b**13,4)"
      ],
      "execution_count": null,
      "outputs": [
        {
          "output_type": "execute_result",
          "data": {
            "image/png": "[encoded data removed]",
            "text/latex": "$$\\frac{\\sqrt[4]{3} b^{\\frac{9}{2}}}{2}$$",
            "text/plain": [
              "4 ___  9/2\n",
              "╲╱ 3 ⋅b   \n",
              "──────────\n",
              "    2     "
            ]
          },
          "metadata": {
            "tags": []
          },
          "execution_count": 5
        }
      ]
    },
    {
      "cell_type": "markdown",
      "metadata": {
        "id": "xWZtdqVqKcIO"
      },
      "source": [
        "# **Logaritmación**\n",
        "\n",
        "Cálcula el valor de la siguiente expresión:\n",
        "\n",
        "$$\\log_{3}{81} - \\log_{2}{\\left(\\dfrac{1}{128}\\right)}$$"
      ]
    },
    {
      "cell_type": "code",
      "metadata": {
        "id": "xe141iBHKcIZ",
        "colab": {
          "base_uri": "https://localhost:8080/"
        },
        "outputId": "59353223-2117-45f9-c19d-52f1b6aea399"
      },
      "source": [
        "log(81,3)-log(Rational(\"1/128\"),2)"
      ],
      "execution_count": null,
      "outputs": [
        {
          "output_type": "execute_result",
          "data": {
            "image/png": "[encoded data removed]",
            "text/latex": "$$11$$",
            "text/plain": [
              "11"
            ]
          },
          "metadata": {
            "tags": []
          },
          "execution_count": 10
        }
      ]
    },
    {
      "cell_type": "markdown",
      "metadata": {
        "id": "O3dNFRkArcQ5"
      },
      "source": [
        "# **EXPRESIONES ALGEBRAICAS**"
      ]
    },
    {
      "cell_type": "markdown",
      "metadata": {
        "id": "LOC0vczUMJi0"
      },
      "source": [
        "## **SIMPLIFICACIÓN DE EXPRESIONES**\n",
        "\n",
        "Para simplificar expresiones en Python basta con ingresar la expresión como linea de código o usando la función **simplify**"
      ]
    },
    {
      "cell_type": "markdown",
      "metadata": {
        "id": "MigbDwsmpyvD"
      },
      "source": [
        "## **Expresiones con potencias**\n",
        "### **Ejemplo 1**\n",
        "Simplifica la siguiente expresión:\n",
        "\n",
        "$$\\left(\\dfrac{15x^5y^3z^{-2}}{54x^{-8}y^8z^{-3}}\\right)^{-3}$$"
      ]
    },
    {
      "cell_type": "code",
      "metadata": {
        "id": "1-fQJrdKKSiG",
        "colab": {
          "base_uri": "https://localhost:8080/",
          "height": 41
        },
        "outputId": "c4ae24c5-f748-4ab2-82e3-53f41a707975"
      },
      "source": [
        "((15*x**5*y**3*z**-2)/(54*x**(-8)*y**8*z**(-3)))**-3"
      ],
      "execution_count": null,
      "outputs": [
        {
          "output_type": "execute_result",
          "data": {
            "image/png": "[encoded data removed]",
            "text/latex": "$$\\frac{5832 y^{15}}{125 x^{39} z^{3}}$$",
            "text/plain": [
              "       15 \n",
              " 5832⋅y   \n",
              "──────────\n",
              "     39  3\n",
              "125⋅x  ⋅z "
            ]
          },
          "metadata": {
            "tags": []
          },
          "execution_count": 7
        }
      ]
    },
    {
      "cell_type": "markdown",
      "metadata": {
        "id": "9ZZ1ZsN12_35"
      },
      "source": [
        "### **Ejemplo 2**\n",
        "\n",
        "Simplifica la siguiente expresión:\n",
        "\n",
        "\n",
        "$$\\dfrac{108x^{-9}y^{-10}z^9}{(360x^{-2}y^{5}z^{-4})^{-2}}$$"
      ]
    },
    {
      "cell_type": "code",
      "metadata": {
        "id": "7uIJqMqVaW5-",
        "colab": {
          "base_uri": "https://localhost:8080/",
          "height": 42
        },
        "outputId": "c2cc00b3-60dd-4ef4-c3ce-8dea27860dc6"
      },
      "source": [
        "((108*x**(-9)*y**(-10)*z**9)/(360*x**(-2)*y**(5)*z**(-4)))**(-2)"
      ],
      "execution_count": null,
      "outputs": [
        {
          "output_type": "execute_result",
          "data": {
            "image/png": "[encoded data removed]",
            "text/latex": "$$\\frac{100 x^{14} y^{30}}{9 z^{26}}$$",
            "text/plain": [
              "     14  30\n",
              "100⋅x  ⋅y  \n",
              "───────────\n",
              "      26   \n",
              "   9⋅z     "
            ]
          },
          "metadata": {
            "tags": []
          },
          "execution_count": 5
        }
      ]
    },
    {
      "cell_type": "markdown",
      "metadata": {
        "id": "13Ew0tz3qKR5"
      },
      "source": [
        "## **Expresiones con raices**\n",
        "Simplifica la siguiente expresión:\n",
        "\n",
        "$$\\sqrt[3]{\\left(\\dfrac{15x^5y^3z^{-2}}{54x^{-8}y^8z^{-3}}\\right)}$$"
      ]
    },
    {
      "cell_type": "code",
      "metadata": {
        "id": "Ij6LsNLNqWnF",
        "colab": {
          "base_uri": "https://localhost:8080/",
          "height": 48
        },
        "outputId": "089407e0-9549-4528-d3bb-d4e0834706c1"
      },
      "source": [
        "root((15*x**5*y**3*z**-2)/(54*x**(-8)*y**8*z**(-3)),3)"
      ],
      "execution_count": null,
      "outputs": [
        {
          "output_type": "execute_result",
          "data": {
            "image/png": "[encoded data removed]",
            "text/latex": "$$\\frac{\\sqrt[3]{60}}{6} \\sqrt[3]{\\frac{x^{13} z}{y^{5}}}$$",
            "text/plain": [
              "             _______\n",
              "            ╱  13   \n",
              "3 ____     ╱  x  ⋅z \n",
              "╲╱ 60 ⋅   ╱   ───── \n",
              "       3 ╱       5  \n",
              "       ╲╱       y   \n",
              "────────────────────\n",
              "         6          "
            ]
          },
          "metadata": {
            "tags": []
          },
          "execution_count": 11
        }
      ]
    },
    {
      "cell_type": "markdown",
      "metadata": {
        "id": "7LzXH9SWMZFn"
      },
      "source": [
        "## **Expresiones con logaritmos**"
      ]
    },
    {
      "cell_type": "markdown",
      "metadata": {
        "id": "QdgIhximMZFt"
      },
      "source": [
        "Calcular el valor de la siguiente expresión:\n",
        "\n",
        "$$\\log_{3}{\\left(\\dfrac{x^5y^3z^{-2}}{x^{-8}y^8z^{-3}}\\right)}$$"
      ]
    },
    {
      "cell_type": "code",
      "metadata": {
        "id": "2zJtdrgSOqth",
        "colab": {
          "base_uri": "https://localhost:8080/",
          "height": 52
        },
        "outputId": "319e313f-94bf-40a0-e15b-1af1eec83d83"
      },
      "source": [
        "log((x**5*y**3*z**(-2))/(x**(8)*y**8*z**(-3)),3)"
      ],
      "execution_count": null,
      "outputs": [
        {
          "output_type": "execute_result",
          "data": {
            "image/png": "[encoded data removed]",
            "text/latex": "$$\\frac{\\log{\\left (\\frac{z}{x^{3} y^{5}} \\right )}}{\\log{\\left (3 \\right )}}$$",
            "text/plain": [
              "   ⎛  z  ⎞\n",
              "log⎜─────⎟\n",
              "   ⎜ 3  5⎟\n",
              "   ⎝x ⋅y ⎠\n",
              "──────────\n",
              "  log(3)  "
            ]
          },
          "metadata": {
            "tags": []
          },
          "execution_count": 18
        }
      ]
    },
    {
      "cell_type": "markdown",
      "metadata": {
        "id": "Q6NfA1dM7lwD"
      },
      "source": [
        "## **División de polinómios**\n",
        "\n",
        "### **Ejemplo 1**\n",
        "Simplifica siguiente expresión:\n",
        "\n",
        "$$ \\dfrac{x^ 3 + x^2 - x - 1}{x^ 2 + 2x + 1}$$"
      ]
    },
    {
      "cell_type": "markdown",
      "metadata": {
        "id": "wmNYhd2c8-Oj"
      },
      "source": [
        "#### **Forma 1:** usando *simplify* como **función**."
      ]
    },
    {
      "cell_type": "code",
      "metadata": {
        "id": "M2_6dxlvMb36",
        "colab": {
          "base_uri": "https://localhost:8080/",
          "height": 38
        },
        "outputId": "303aa5ac-4021-4a2f-d02f-33bfb804f79c"
      },
      "source": [
        "simplify((x**3+x**2-x-1)/(x**2+2*x+1))\n"
      ],
      "execution_count": null,
      "outputs": [
        {
          "output_type": "execute_result",
          "data": {
            "image/png": "[encoded data removed]",
            "text/latex": "$$x - 1$$",
            "text/plain": [
              "x - 1"
            ]
          },
          "metadata": {
            "tags": []
          },
          "execution_count": 38
        }
      ]
    },
    {
      "cell_type": "markdown",
      "metadata": {
        "id": "k2PvRk739ate"
      },
      "source": [
        "#### **Forma 2:** usando *simplify* como **método**."
      ]
    },
    {
      "cell_type": "code",
      "metadata": {
        "colab": {
          "base_uri": "https://localhost:8080/",
          "height": 38
        },
        "id": "IeA9_hFZ7sw8",
        "outputId": "c3eb0933-5417-4ea0-8a94-2dd40041d54b"
      },
      "source": [
        "((x**3+x**2-x-1)/(x**2+2*x+1)).simplify()"
      ],
      "execution_count": null,
      "outputs": [
        {
          "output_type": "execute_result",
          "data": {
            "image/png": "[encoded data removed]",
            "text/latex": "$$x - 1$$",
            "text/plain": [
              "x - 1"
            ]
          },
          "metadata": {
            "tags": []
          },
          "execution_count": 2
        }
      ]
    },
    {
      "cell_type": "markdown",
      "metadata": {
        "id": "6T8ia7LhRy_3"
      },
      "source": [
        "### **Ejemplo 2**\n",
        "\n",
        "Encuentra el cociente y el residuo de dididir:\n",
        "\n",
        "$$ \\dfrac{2x^ 3 + x^2 - x - 1}{x^ 2 + 3x + 1}$$"
      ]
    },
    {
      "cell_type": "code",
      "metadata": {
        "id": "5oPIm4o3SeGz",
        "colab": {
          "base_uri": "https://localhost:8080/",
          "height": 38
        },
        "outputId": "de75957f-f6f0-4f04-be78-b78eca94b6c5"
      },
      "source": [
        "div(4*x**3-8*x**2+2*x-2,x+2)"
      ],
      "execution_count": null,
      "outputs": [
        {
          "output_type": "execute_result",
          "data": {
            "image/png": "[encoded data removed]",
            "text/latex": "$$\\left ( 4 x^{2} - 16 x + 34, \\quad -70\\right )$$",
            "text/plain": [
              "⎛   2                 ⎞\n",
              "⎝4⋅x  - 16⋅x + 34, -70⎠"
            ]
          },
          "metadata": {
            "tags": []
          },
          "execution_count": 8
        }
      ]
    },
    {
      "cell_type": "markdown",
      "metadata": {
        "id": "F0_zAf6JZq9N"
      },
      "source": [
        "## **Simplificación de potencias**\n",
        "\n",
        "\n",
        "### **Ejemplo 1**\n",
        "\n",
        "Simplifica la expresión: \n",
        "\n",
        "$$x ^ y  x ^ z y ^ z$$"
      ]
    },
    {
      "cell_type": "markdown",
      "metadata": {
        "id": "WAwx4WsRATQf"
      },
      "source": [
        "#### **Forma 1:** usando *powsimp* como **función**."
      ]
    },
    {
      "cell_type": "code",
      "metadata": {
        "id": "WoFkvrT7Zmie",
        "colab": {
          "base_uri": "https://localhost:8080/",
          "height": 38
        },
        "outputId": "7ed654eb-547c-4ef8-b667-630a6d983a52"
      },
      "source": [
        "powsimp(x ** y * x ** z * y ** z)"
      ],
      "execution_count": null,
      "outputs": [
        {
          "output_type": "execute_result",
          "data": {
            "image/png": "[encoded data removed]",
            "text/latex": "$$x^{y + z} y^{z}$$",
            "text/plain": [
              " y + z  z\n",
              "x     ⋅y "
            ]
          },
          "metadata": {
            "tags": []
          },
          "execution_count": 57
        }
      ]
    },
    {
      "cell_type": "markdown",
      "metadata": {
        "id": "6dEI6-wRApVc"
      },
      "source": [
        "#### **Forma 2:** usando *powsimp* como **método**."
      ]
    },
    {
      "cell_type": "code",
      "metadata": {
        "colab": {
          "base_uri": "https://localhost:8080/",
          "height": 38
        },
        "id": "Ctus4wXdAGOm",
        "outputId": "e989e99e-fdc0-4255-929a-f3c76687ca19"
      },
      "source": [
        "(x ** y * x ** z * y ** z).powsimp()"
      ],
      "execution_count": null,
      "outputs": [
        {
          "output_type": "execute_result",
          "data": {
            "image/png": "[encoded data removed]",
            "text/latex": "$$x^{y + z} y^{z}$$",
            "text/plain": [
              " y + z  z\n",
              "x     ⋅y "
            ]
          },
          "metadata": {
            "tags": []
          },
          "execution_count": 3
        }
      ]
    },
    {
      "cell_type": "markdown",
      "metadata": {
        "id": "lA3sVqkY4rYh"
      },
      "source": [
        "### **Ejemplo 2**\n",
        "Simplifica la siguiente expresión con potencias y radicales.\n",
        "\n",
        "$$\\sqrt[3]{\\dfrac{108x^9y^{10}}{z^{17}}}$$"
      ]
    },
    {
      "cell_type": "code",
      "metadata": {
        "id": "0k-dH-o2kWas",
        "colab": {
          "base_uri": "https://localhost:8080/",
          "height": 48
        },
        "outputId": "2cc99f1a-9d77-47ba-dde8-04cd9821d1b6"
      },
      "source": [
        "x, y= symbols(\"x y\", positive= True)\n",
        "powsimp(root(((108*x**9*y**10)/(z**17)),3))"
      ],
      "execution_count": null,
      "outputs": [
        {
          "output_type": "execute_result",
          "data": {
            "image/png": "[encoded data removed]",
            "text/latex": "$$3 \\cdot 2^{\\frac{2}{3}} x^{3} y^{\\frac{10}{3}} \\sqrt[3]{\\frac{1}{z^{17}}}$$",
            "text/plain": [
              "                     _____\n",
              "   2/3  3  10/3     ╱  1  \n",
              "3⋅2   ⋅x ⋅y    ⋅   ╱  ─── \n",
              "                3 ╱    17 \n",
              "                ╲╱    z   "
            ]
          },
          "metadata": {
            "tags": []
          },
          "execution_count": 23
        }
      ]
    },
    {
      "cell_type": "markdown",
      "metadata": {
        "id": "L8lF4nlITdfN"
      },
      "source": [
        "## **Simplificación de expresiones trigonométricas**\n",
        "Simplifica siguiente expresión:\n",
        "\n",
        "$$ \\cos^2(x) -\\sin^2(x)$$"
      ]
    },
    {
      "cell_type": "markdown",
      "metadata": {
        "id": "LdX0_SI3CRL1"
      },
      "source": [
        "#### **Forma 1:** usando *trigsimp* como **función**."
      ]
    },
    {
      "cell_type": "code",
      "metadata": {
        "id": "_huRwGRSTcmj",
        "colab": {
          "base_uri": "https://localhost:8080/",
          "height": 38
        },
        "outputId": "82634cc7-d262-4ff3-de60-8687a645ca74"
      },
      "source": [
        "trigsimp((cos(x))**2-(sin(x))**2)"
      ],
      "execution_count": null,
      "outputs": [
        {
          "output_type": "execute_result",
          "data": {
            "image/png": "[encoded data removed]",
            "text/latex": "$$\\cos{\\left (2 x \\right )}$$",
            "text/plain": [
              "cos(2⋅x)"
            ]
          },
          "metadata": {
            "tags": []
          },
          "execution_count": 58
        }
      ]
    },
    {
      "cell_type": "markdown",
      "metadata": {
        "id": "o6OBDJQBCaXi"
      },
      "source": [
        "#### **Forma 1:** usando *trigsimp* como **método**."
      ]
    },
    {
      "cell_type": "code",
      "metadata": {
        "colab": {
          "base_uri": "https://localhost:8080/",
          "height": 38
        },
        "id": "F7AnnljGBS98",
        "outputId": "367ad1b9-a795-4616-96a4-4527f26eb500"
      },
      "source": [
        "((cos(x))**2-(sin(x))**2).trigsimp()"
      ],
      "execution_count": null,
      "outputs": [
        {
          "output_type": "execute_result",
          "data": {
            "image/png": "[encoded data removed]",
            "text/latex": "$$\\cos{\\left (2 x \\right )}$$",
            "text/plain": [
              "cos(2⋅x)"
            ]
          },
          "metadata": {
            "tags": []
          },
          "execution_count": 4
        }
      ]
    },
    {
      "cell_type": "markdown",
      "metadata": {
        "id": "ewXXjkcFMn31"
      },
      "source": [
        "## **EXPANSIÓN DE EXPRESIONES**"
      ]
    },
    {
      "cell_type": "markdown",
      "metadata": {
        "id": "MoMFyG_sbPyk"
      },
      "source": [
        "##**Expansión de polinómios**\n",
        "\n",
        "Expande la siguiente expresión:"
      ]
    },
    {
      "cell_type": "markdown",
      "metadata": {
        "id": "gjjH8bphMJCG"
      },
      "source": [
        "$$(5x+4y-5z)-(3x-4y)^2(x-3z)$$"
      ]
    },
    {
      "cell_type": "markdown",
      "metadata": {
        "id": "wgzm0nxJCkdL"
      },
      "source": [
        "#### **Forma 1:** usando *expand* como **función**."
      ]
    },
    {
      "cell_type": "code",
      "metadata": {
        "id": "sg3FKFOaMHv8",
        "colab": {
          "base_uri": "https://localhost:8080/",
          "height": 38
        },
        "outputId": "f90dcce4-826e-425c-acdc-b7ddec41e8cf"
      },
      "source": [
        "expand((5*x+4*y-5*z)-((3*x-4*y)**2)*(x-3*z))"
      ],
      "execution_count": null,
      "outputs": [
        {
          "output_type": "execute_result",
          "data": {
            "image/png": "[encoded data removed]",
            "text/latex": "$$- 9 x^{3} + 24 x^{2} y + 27 x^{2} z - 16 x y^{2} - 72 x y z + 5 x + 48 y^{2} z + 4 y - 5 z$$",
            "text/plain": [
              "     3       2         2           2                        2              \n",
              "- 9⋅x  + 24⋅x ⋅y + 27⋅x ⋅z - 16⋅x⋅y  - 72⋅x⋅y⋅z + 5⋅x + 48⋅y ⋅z + 4⋅y - 5⋅z"
            ]
          },
          "metadata": {
            "tags": []
          },
          "execution_count": 59
        }
      ]
    },
    {
      "cell_type": "markdown",
      "metadata": {
        "id": "9kX1c1jXCsNm"
      },
      "source": [
        "#### **Forma 2:** usando *expand* como **método**."
      ]
    },
    {
      "cell_type": "code",
      "metadata": {
        "colab": {
          "base_uri": "https://localhost:8080/",
          "height": 38
        },
        "id": "wpCRNCrSBbks",
        "outputId": "dd48bcc0-b285-48dd-8e86-b2a8ed5f4f7b"
      },
      "source": [
        "((5*x+4*y-5*z)-((3*x-4*y)**2)*(x-3*z)).expand()"
      ],
      "execution_count": null,
      "outputs": [
        {
          "output_type": "execute_result",
          "data": {
            "image/png": "[encoded data removed]",
            "text/latex": "$$- 9 x^{3} + 24 x^{2} y + 27 x^{2} z - 16 x y^{2} - 72 x y z + 5 x + 48 y^{2} z + 4 y - 5 z$$",
            "text/plain": [
              "     3       2         2           2                        2              \n",
              "- 9⋅x  + 24⋅x ⋅y + 27⋅x ⋅z - 16⋅x⋅y  - 72⋅x⋅y⋅z + 5⋅x + 48⋅y ⋅z + 4⋅y - 5⋅z"
            ]
          },
          "metadata": {
            "tags": []
          },
          "execution_count": 5
        }
      ]
    },
    {
      "cell_type": "markdown",
      "metadata": {
        "id": "wbODrumRblop"
      },
      "source": [
        "##**Expansión de logaritmos**\n",
        "\n",
        "\n",
        "### **Ejemplo 1**\n",
        "\n",
        "Expande la siguiente expresión:\n",
        "\n",
        "$$\\log(xy)$$"
      ]
    },
    {
      "cell_type": "code",
      "metadata": {
        "id": "4-tgLET4cFkW",
        "colab": {
          "base_uri": "https://localhost:8080/",
          "height": 38
        },
        "outputId": "205d0941-717f-465b-d6c9-f6559653e440"
      },
      "source": [
        "x, y = symbols('x y',positive=True)\n",
        "expand_log(log(x*y))"
      ],
      "execution_count": null,
      "outputs": [
        {
          "output_type": "execute_result",
          "data": {
            "image/png": "[encoded data removed]",
            "text/latex": "$$\\log{\\left (x \\right )} + \\log{\\left (y \\right )}$$",
            "text/plain": [
              "log(x) + log(y)"
            ]
          },
          "metadata": {
            "tags": []
          },
          "execution_count": 7
        }
      ]
    },
    {
      "cell_type": "markdown",
      "metadata": {
        "id": "64lUuTsO87py"
      },
      "source": [
        "\n",
        "### **Ejemplo 2**\n",
        "\n",
        "Expande la siguiente expresión:\n",
        "\n",
        "$$\\log_{2}{[(x-2)^3x^5]}$$"
      ]
    },
    {
      "cell_type": "code",
      "metadata": {
        "id": "8PCPQUIR4PDc",
        "colab": {
          "base_uri": "https://localhost:8080/",
          "height": 47
        },
        "outputId": "814b8d75-2ef0-40cd-a423-67d815b1e76d"
      },
      "source": [
        "x= Symbol('x',positive=True)\n",
        "expand_log(log((x-2)**3*x**5,2))"
      ],
      "execution_count": null,
      "outputs": [
        {
          "output_type": "execute_result",
          "data": {
            "image/png": "[encoded data removed]",
            "text/latex": "$$\\frac{1}{\\log{\\left (2 \\right )}} \\left(5 \\log{\\left (x \\right )} + \\log{\\left (\\left(x - 2\\right)^{3} \\right )}\\right)$$",
            "text/plain": [
              "              ⎛       3⎞\n",
              "5⋅log(x) + log⎝(x - 2) ⎠\n",
              "────────────────────────\n",
              "         log(2)         "
            ]
          },
          "metadata": {
            "tags": []
          },
          "execution_count": 41
        }
      ]
    },
    {
      "cell_type": "markdown",
      "metadata": {
        "id": "7ZAN_AB_bxCa"
      },
      "source": [
        "##**Expansión de expresiones trigonométricas**\n",
        "\n",
        "Expande la siguiente expresión:\n",
        "\n",
        "$$\\sin(x+y)$$"
      ]
    },
    {
      "cell_type": "code",
      "metadata": {
        "id": "3ltR9nNgb-Dx",
        "colab": {
          "base_uri": "https://localhost:8080/",
          "height": 38
        },
        "outputId": "4c015adb-7e6b-4962-9e44-56a61b68f9e3"
      },
      "source": [
        "expand_trig(sin(x + y))"
      ],
      "execution_count": null,
      "outputs": [
        {
          "output_type": "execute_result",
          "data": {
            "image/png": "[encoded data removed]",
            "text/latex": "$$\\sin{\\left (x \\right )} \\cos{\\left (y \\right )} + \\sin{\\left (y \\right )} \\cos{\\left (x \\right )}$$",
            "text/plain": [
              "sin(x)⋅cos(y) + sin(y)⋅cos(x)"
            ]
          },
          "metadata": {
            "tags": []
          },
          "execution_count": 61
        }
      ]
    },
    {
      "cell_type": "markdown",
      "metadata": {
        "id": "i9I2AvuRLuEY"
      },
      "source": [
        "##**Fracciones parciales**\n",
        "\n",
        "Descompone en fracciones parciales la siguiente expresión:\n",
        "\n",
        "$$\\dfrac{x^2+15}{(x+3)^2(x^2+3)}$$"
      ]
    },
    {
      "cell_type": "code",
      "metadata": {
        "colab": {
          "base_uri": "https://localhost:8080/",
          "height": 42
        },
        "id": "F-uJgl3VLuEm",
        "outputId": "dfa47f8f-0a32-471e-f5b7-153586da9e77"
      },
      "source": [
        "apart((x**2+15)/((x+3)**2*(x**2+3)))"
      ],
      "execution_count": null,
      "outputs": [
        {
          "output_type": "execute_result",
          "data": {
            "image/png": "[encoded data removed]",
            "text/latex": "$$- \\frac{x - 1}{2 \\left(x^{2} + 3\\right)} + \\frac{1}{2 \\left(x + 3\\right)} + \\frac{2}{\\left(x + 3\\right)^{2}}$$",
            "text/plain": [
              "    x - 1          1          2    \n",
              "- ────────── + ───────── + ────────\n",
              "    ⎛ 2    ⎞   2⋅(x + 3)          2\n",
              "  2⋅⎝x  + 3⎠               (x + 3) "
            ]
          },
          "metadata": {
            "tags": []
          },
          "execution_count": 5
        }
      ]
    },
    {
      "cell_type": "markdown",
      "metadata": {
        "id": "Uo9uxqzJPIFA"
      },
      "source": [
        "## **FACTORIZACIÓN DE EXPRESIONES**\n",
        "\n",
        "Factoriza la siguiente expresión:\n",
        "$$9x^2 -6xz-y^2+z^2$$"
      ]
    },
    {
      "cell_type": "markdown",
      "metadata": {
        "id": "vHv9bcTpDpLa"
      },
      "source": [
        "#### **Forma 1:** usando *factor* como **función**."
      ]
    },
    {
      "cell_type": "code",
      "metadata": {
        "id": "AvPyPG73MHsz",
        "colab": {
          "base_uri": "https://localhost:8080/",
          "height": 38
        },
        "outputId": "22b7ebca-f9e4-43ab-ab67-bb27b95d8ed5"
      },
      "source": [
        "factor(9*x**2 -6*x*z-y**2+z**2)"
      ],
      "execution_count": null,
      "outputs": [
        {
          "output_type": "execute_result",
          "data": {
            "image/png": "[encoded data removed]",
            "text/latex": "$$\\left(3 x - y - z\\right) \\left(3 x + y - z\\right)$$",
            "text/plain": [
              "(3⋅x - y - z)⋅(3⋅x + y - z)"
            ]
          },
          "metadata": {
            "tags": []
          },
          "execution_count": 62
        }
      ]
    },
    {
      "cell_type": "markdown",
      "metadata": {
        "id": "gKYcJ08dDtbC"
      },
      "source": [
        "#### **Forma 1:** usando *factor* como **método**."
      ]
    },
    {
      "cell_type": "code",
      "metadata": {
        "colab": {
          "base_uri": "https://localhost:8080/",
          "height": 38
        },
        "id": "raBhpZcmGA4L",
        "outputId": "321173c0-c8a9-42bd-f402-08fbc300a3f2"
      },
      "source": [
        "(9*x**2 -6*x*z-y**2+z**2).factor()"
      ],
      "execution_count": null,
      "outputs": [
        {
          "output_type": "execute_result",
          "data": {
            "image/png": "[encoded data removed]",
            "text/latex": "$$\\left(3 x - y - z\\right) \\left(3 x + y - z\\right)$$",
            "text/plain": [
              "(3⋅x - y - z)⋅(3⋅x + y - z)"
            ]
          },
          "metadata": {
            "tags": []
          },
          "execution_count": 3
        }
      ]
    },
    {
      "cell_type": "markdown",
      "metadata": {
        "id": "pD9oyd59WGZa"
      },
      "source": [
        "# **DESPEJE DE VARIABLES EN UNA ECUACIÓN**\n",
        "\n",
        "\n",
        "### **Ejemplo 1**\n",
        "Despejar la variable $t$ en la ecuación:\n",
        "\n",
        "$$h = \\frac{gt^2}{2}+vt$$"
      ]
    },
    {
      "cell_type": "code",
      "metadata": {
        "colab": {
          "base_uri": "https://localhost:8080/",
          "height": 47
        },
        "id": "m5qCx-tT-1OX",
        "outputId": "336752ab-5ca1-4b0f-af0c-5feb81afa20f"
      },
      "source": [
        "h, g, t, v = symbols('h g t v ')\n",
        "solveset(Eq(h,(g*t**2)/2+v*t), t)"
      ],
      "execution_count": null,
      "outputs": [
        {
          "output_type": "execute_result",
          "data": {
            "image/png": "[encoded data removed]",
            "text/latex": "$$\\left\\{- \\frac{v}{g} - \\frac{1}{g} \\sqrt{2 g h + v^{2}}, - \\frac{v}{g} + \\frac{1}{g} \\sqrt{2 g h + v^{2}}\\right\\}$$",
            "text/plain": [
              "⎧         ____________           ____________⎫\n",
              "⎪        ╱          2           ╱          2 ⎪\n",
              "⎨  v   ╲╱  2⋅g⋅h + v      v   ╲╱  2⋅g⋅h + v  ⎬\n",
              "⎪- ─ - ───────────────, - ─ + ───────────────⎪\n",
              "⎩  g          g           g          g       ⎭"
            ]
          },
          "metadata": {
            "tags": []
          },
          "execution_count": 12
        }
      ]
    },
    {
      "cell_type": "markdown",
      "metadata": {
        "id": "QwAMlxO7_fRd"
      },
      "source": [
        "\n",
        "### **Ejemplo 2**\n",
        "\n",
        "Despejar la variable $t$ en la ecuación:\n",
        "\n",
        "$$ y = \\dfrac{g x^2}{2v^2\\cos^2{t}} + \\tan(t)x$$"
      ]
    },
    {
      "cell_type": "code",
      "metadata": {
        "id": "xJ8u_g1rDwHF",
        "colab": {
          "base_uri": "https://localhost:8080/",
          "height": 58
        },
        "outputId": "0364f9aa-db58-446c-a778-6486902d0a79"
      },
      "source": [
        "y, g, v, x, t = symbols('y g v x t')\n",
        "solveset(Eq(y,g/(2*(cos(t))**2*v**2)*x**2+tan(t)*x), v)"
      ],
      "execution_count": null,
      "outputs": [
        {
          "output_type": "execute_result",
          "data": {
            "text/latex": "$$\\left\\{- \\frac{\\sqrt{2} x \\sqrt{- \\frac{g}{x \\tan{\\left (t \\right )} - y}}}{2 \\cos{\\left (t \\right )}}, \\frac{\\sqrt{2} x \\sqrt{- \\frac{g}{x \\tan{\\left (t \\right )} - y}}}{2 \\cos{\\left (t \\right )}}\\right\\} \\setminus \\left\\{0\\right\\}$$",
            "text/plain": [
              "⎧          ______________            ______________⎫      \n",
              "⎪         ╱     -g                  ╱     -g       ⎪      \n",
              "⎪-√2⋅x⋅  ╱  ────────────    √2⋅x⋅  ╱  ──────────── ⎪      \n",
              "⎨      ╲╱   x⋅tan(t) - y         ╲╱   x⋅tan(t) - y ⎬      \n",
              "⎪─────────────────────────, ───────────────────────⎪ \\ {0}\n",
              "⎪         2⋅cos(t)                  2⋅cos(t)       ⎪      \n",
              "⎩                                                  ⎭      "
            ]
          },
          "metadata": {
            "tags": []
          },
          "execution_count": 7
        }
      ]
    },
    {
      "cell_type": "markdown",
      "metadata": {
        "id": "gsOb0Kn4-dhN"
      },
      "source": [
        "# **SUSTITUCIÓN DE EXPRESIONES**\n",
        "\n"
      ]
    },
    {
      "cell_type": "markdown",
      "metadata": {
        "id": "ekceGKZ-eBw1"
      },
      "source": [
        "### **Ejemplo 1**\n",
        "\n",
        "Sustituye la expresión $y = 3x +1$ en la ecuación $x + y = 144$  para obtener una ecuación que solo dependa de la variable $x$."
      ]
    },
    {
      "cell_type": "code",
      "metadata": {
        "id": "bfGN7MHWEG--",
        "colab": {
          "base_uri": "https://localhost:8080/",
          "height": 38
        },
        "outputId": "073703e1-4fb3-4f56-ae14-ced45babe97b"
      },
      "source": [
        "Eq(x+y, 144).subs(y,3*x+12)"
      ],
      "execution_count": null,
      "outputs": [
        {
          "output_type": "execute_result",
          "data": {
            "image/png": "[encoded data removed]",
            "text/latex": "$$4 x + 12 = 144$$",
            "text/plain": [
              "4⋅x + 12 = 144"
            ]
          },
          "metadata": {
            "tags": []
          },
          "execution_count": 46
        }
      ]
    },
    {
      "cell_type": "markdown",
      "metadata": {
        "id": "pRX2iquXCKuT"
      },
      "source": [
        "### **Ejemplo 2:** (sustituciones múltiples)\n",
        "Si  $t = 4$ , $g = 9.8$ y $v = 2$ encuentra el valor de $h$ usando la siguiente expresión:\n",
        "\n",
        "$$h = \\frac{gt^2}{2}+vt$$\n"
      ]
    },
    {
      "cell_type": "code",
      "metadata": {
        "id": "Bys_eDuDAkmr",
        "colab": {
          "base_uri": "https://localhost:8080/",
          "height": 38
        },
        "outputId": "6a13899d-06d0-49a0-a946-1cd854f25f55"
      },
      "source": [
        "Eq(h, 1/2*g*t**2+v*t).subs([(t, 4), (g, 9.8), (v, 2)])"
      ],
      "execution_count": null,
      "outputs": [
        {
          "output_type": "execute_result",
          "data": {
            "image/png": "[encoded data removed]",
            "text/latex": "$$h = 86.4$$",
            "text/plain": [
              "h = 86.4"
            ]
          },
          "metadata": {
            "tags": []
          },
          "execution_count": 65
        }
      ]
    },
    {
      "cell_type": "markdown",
      "metadata": {
        "id": "B5AKTq8-S7ee"
      },
      "source": [
        "# **RESOLUCIÓN DE ECUACIONES**"
      ]
    },
    {
      "cell_type": "markdown",
      "metadata": {
        "id": "nExmrU8aDuyy"
      },
      "source": [
        "#### Usando la función **solve** de **SymPy**.\n",
        "\n",
        "### **Ejemplo 1**\n",
        "\n",
        "Resuelve la ecuación\n",
        "\n",
        "$$3x^2-5x-2 = 0 $$"
      ]
    },
    {
      "cell_type": "code",
      "metadata": {
        "id": "XGxNz7NPS6gv",
        "colab": {
          "base_uri": "https://localhost:8080/",
          "height": 38
        },
        "outputId": "90d4f22f-8b67-49e1-8c37-7af2ce74370d"
      },
      "source": [
        "solve(3*x**2-5*x-2)"
      ],
      "execution_count": null,
      "outputs": [
        {
          "output_type": "execute_result",
          "data": {
            "image/png": "[encoded data removed]",
            "text/latex": "$$\\left [ - \\frac{1}{3}, \\quad 2\\right ]$$",
            "text/plain": [
              "[-1/3, 2]"
            ]
          },
          "metadata": {
            "tags": []
          },
          "execution_count": 5
        }
      ]
    },
    {
      "cell_type": "markdown",
      "metadata": {
        "id": "_1H9nPklFPV7"
      },
      "source": [
        "### **Ejemplo 2**\n",
        "\n",
        "Resuelve la ecuación\n",
        "\n",
        "$$3x^2-5x-2 = 0 $$"
      ]
    },
    {
      "cell_type": "code",
      "metadata": {
        "colab": {
          "base_uri": "https://localhost:8080/",
          "height": 38
        },
        "id": "zVXRNxhgFPWf",
        "outputId": "79b9d9c4-bf3b-41e3-b5e7-6b9d84f9cdaf"
      },
      "source": [
        "solve(3*x**2-5*x-2,x)"
      ],
      "execution_count": null,
      "outputs": [
        {
          "output_type": "execute_result",
          "data": {
            "image/png": "[encoded data removed]",
            "text/latex": "$$\\left [ - \\frac{1}{3}, \\quad 2\\right ]$$",
            "text/plain": [
              "[-1/3, 2]"
            ]
          },
          "metadata": {
            "tags": []
          },
          "execution_count": 6
        }
      ]
    },
    {
      "cell_type": "markdown",
      "metadata": {
        "id": "yWMe8yM1DG06"
      },
      "source": [
        "### **Ejemplo 3**\n",
        "\n",
        "Encuentra los valores de  x  que son solución de la siguiente ecuación:\n",
        "\n",
        "$$x^2=4$$"
      ]
    },
    {
      "cell_type": "code",
      "metadata": {
        "id": "tG4ZuPizPHpb",
        "colab": {
          "base_uri": "https://localhost:8080/",
          "height": 37
        },
        "outputId": "0213e0c7-f6ed-4721-d043-d6c2d1a13f5c"
      },
      "source": [
        "solve(Eq(x**2,4),x)"
      ],
      "execution_count": null,
      "outputs": [
        {
          "output_type": "execute_result",
          "data": {
            "image/png": "[encoded data removed]",
            "text/latex": "$$\\left [ -2, \\quad 2\\right ]$$",
            "text/plain": [
              "[-2, 2]"
            ]
          },
          "metadata": {
            "tags": []
          },
          "execution_count": 3
        }
      ]
    },
    {
      "cell_type": "markdown",
      "metadata": {
        "id": "eme2qBFLDWEv"
      },
      "source": [
        "### **Ejemplo 4**\n",
        "\n",
        "Resuelve la ecuación\n",
        "\n",
        "$$2^{x+1} = 4^{x+2}$$"
      ]
    },
    {
      "cell_type": "code",
      "metadata": {
        "id": "TUSqnFuLRxEd",
        "colab": {
          "base_uri": "https://localhost:8080/",
          "height": 37
        },
        "outputId": "c75c084f-8ab9-456d-bfe5-1700cd7f9c49"
      },
      "source": [
        "solve(Eq(2**(x+1),4**(x+2)),x)"
      ],
      "execution_count": null,
      "outputs": [
        {
          "output_type": "execute_result",
          "data": {
            "image/png": "[encoded data removed]",
            "text/latex": "$$\\left [ -3\\right ]$$",
            "text/plain": [
              "[-3]"
            ]
          },
          "metadata": {
            "tags": []
          },
          "execution_count": 5
        }
      ]
    },
    {
      "cell_type": "markdown",
      "metadata": {
        "id": "WY76dypNFHMj"
      },
      "source": [
        "#### Usando la función **solveset** de **SymPy**.\n",
        "\n",
        "### **Ejemplo 1**\n",
        "\n",
        "Resuelve la ecuación\n",
        "\n",
        "$$x^3-5x^2=-2x-8$$"
      ]
    },
    {
      "cell_type": "code",
      "metadata": {
        "id": "vZQwyU4qrMvh",
        "colab": {
          "base_uri": "https://localhost:8080/",
          "height": 37
        },
        "outputId": "c79027e2-899f-4cb1-e68c-d60e60ed67bf"
      },
      "source": [
        "solveset(Eq(x**3-5*x**2,-2*x-8))"
      ],
      "execution_count": null,
      "outputs": [
        {
          "output_type": "execute_result",
          "data": {
            "image/png": "[encoded data removed]",
            "text/latex": "$$\\left\\{-1, 2, 4\\right\\}$$",
            "text/plain": [
              "{-1, 2, 4}"
            ]
          },
          "metadata": {
            "tags": []
          },
          "execution_count": 7
        }
      ]
    },
    {
      "cell_type": "markdown",
      "metadata": {
        "id": "B_gVCrZrERQP"
      },
      "source": [
        "### **Ejemplo 2**\n",
        "\n",
        "Encuentra los valores de $x$ que son solución de la siguiente ecuación:\n",
        "$$3x^2-5x = 2$$"
      ]
    },
    {
      "cell_type": "code",
      "metadata": {
        "id": "ZxCC_Z-4T5xK",
        "colab": {
          "base_uri": "https://localhost:8080/",
          "height": 38
        },
        "outputId": "edad29db-7469-43db-c3f8-b94282d9c5a6"
      },
      "source": [
        "solveset(Eq(3*x**2-5*x,2),x)"
      ],
      "execution_count": null,
      "outputs": [
        {
          "output_type": "execute_result",
          "data": {
            "image/png": "[encoded data removed]",
            "text/latex": "$$\\left\\{- \\frac{1}{3}, 2\\right\\}$$",
            "text/plain": [
              "{-1/3, 2}"
            ]
          },
          "metadata": {
            "tags": []
          },
          "execution_count": 8
        }
      ]
    },
    {
      "cell_type": "markdown",
      "metadata": {
        "id": "of4JInUWE-B0"
      },
      "source": [
        "### **Ejemplo 3**\n",
        "\n",
        "Resuelve la ecuación\n",
        "\n",
        "$$x^4=3x^2-2$$"
      ]
    },
    {
      "cell_type": "code",
      "metadata": {
        "id": "uvHTgtrGnetT",
        "colab": {
          "base_uri": "https://localhost:8080/",
          "height": 38
        },
        "outputId": "f165667f-8690-42fb-9fb2-60f841dcc8cb"
      },
      "source": [
        "solveset(Eq(x**4,3*x**2-2))"
      ],
      "execution_count": null,
      "outputs": [
        {
          "output_type": "execute_result",
          "data": {
            "image/png": "[encoded data removed]",
            "text/latex": "$$\\left\\{-1, 1, - \\sqrt{2}, \\sqrt{2}\\right\\}$$",
            "text/plain": [
              "{-1, 1, -√2, √2}"
            ]
          },
          "metadata": {
            "tags": []
          },
          "execution_count": 9
        }
      ]
    },
    {
      "cell_type": "markdown",
      "metadata": {
        "id": "Hmb12elzO-_0"
      },
      "source": [
        "# **RESOLUCIÓN DE SISTEMA DE ECUACIONES**"
      ]
    },
    {
      "cell_type": "markdown",
      "metadata": {
        "id": "kSkqEmVGRkXS"
      },
      "source": [
        "### **Ejemplo 1**\n",
        "\n",
        "Resuelve el  siguiente sistema de ecuaciónes:\n",
        "$$\\left\\{\n",
        "x + y  = 4 \\atop\n",
        "2x + y = 5\n",
        "\\right.$$"
      ]
    },
    {
      "cell_type": "markdown",
      "metadata": {
        "id": "IpitKYDCVij2"
      },
      "source": [
        "#### **Forma 1:** "
      ]
    },
    {
      "cell_type": "code",
      "metadata": {
        "colab": {
          "base_uri": "https://localhost:8080/",
          "height": 38
        },
        "id": "6MeL7xBtUwk1",
        "outputId": "5604a946-6b56-4936-95b1-65535532e18d"
      },
      "source": [
        "solve([x+y-4,2*x+y-5],[x,y])"
      ],
      "execution_count": null,
      "outputs": [
        {
          "output_type": "execute_result",
          "data": {
            "image/png": "[encoded data removed]",
            "text/latex": "$$\\left \\{ x : 1, \\quad y : 3\\right \\}$$",
            "text/plain": [
              "{x: 1, y: 3}"
            ]
          },
          "metadata": {
            "tags": []
          },
          "execution_count": 20
        }
      ]
    },
    {
      "cell_type": "markdown",
      "metadata": {
        "id": "rFXZLAmKWQLK"
      },
      "source": [
        "#### **Forma 2:** "
      ]
    },
    {
      "cell_type": "code",
      "metadata": {
        "colab": {
          "base_uri": "https://localhost:8080/",
          "height": 38
        },
        "id": "gtbeXQ0ZWQLh",
        "outputId": "201e0a22-4f49-4d0c-b7bd-ef8afacf2b5c"
      },
      "source": [
        "Eq1 = Eq(x+y,4)\n",
        "Eq2 = Eq(2*x+y,5)\n",
        "solve([Eq1,Eq2],[x,y])"
      ],
      "execution_count": null,
      "outputs": [
        {
          "output_type": "execute_result",
          "data": {
            "image/png": "[encoded data removed]",
            "text/latex": "$$\\left \\{ x : 1, \\quad y : 3\\right \\}$$",
            "text/plain": [
              "{x: 1, y: 3}"
            ]
          },
          "metadata": {
            "tags": []
          },
          "execution_count": 24
        }
      ]
    },
    {
      "cell_type": "markdown",
      "metadata": {
        "id": "UCXHGfaIVtzr"
      },
      "source": [
        "#### **Forma 3:** "
      ]
    },
    {
      "cell_type": "code",
      "metadata": {
        "colab": {
          "base_uri": "https://localhost:8080/",
          "height": 38
        },
        "id": "9n78cMGEVw9_",
        "outputId": "a8b7cfac-052f-46e6-9357-12eda7b9ef6a"
      },
      "source": [
        "Eq1 = Eq(x+y-4)\n",
        "Eq2 = Eq(2*x+y-5)\n",
        "solve([Eq1,Eq2],[x,y])"
      ],
      "execution_count": null,
      "outputs": [
        {
          "output_type": "execute_result",
          "data": {
            "image/png": "[encoded data removed]",
            "text/latex": "$$\\left \\{ x : 1, \\quad y : 3\\right \\}$$",
            "text/plain": [
              "{x: 1, y: 3}"
            ]
          },
          "metadata": {
            "tags": []
          },
          "execution_count": 25
        }
      ]
    },
    {
      "cell_type": "markdown",
      "metadata": {
        "id": "JAJMTCYik5Y7"
      },
      "source": [
        "# **COMPLETACIÓN DE CUADRADOS**\n",
        "\n",
        "Reescribe la siguiente expresión completando cuadrados\n",
        "\n",
        "$$3x^2-6x+7$$"
      ]
    },
    {
      "cell_type": "code",
      "metadata": {
        "colab": {
          "base_uri": "https://localhost:8080/",
          "height": 39
        },
        "id": "TsS6wKw7l0QE",
        "outputId": "a5c98c3f-bb35-401e-ad9a-84207f08e1f1"
      },
      "source": [
        "h, k, a = symbols('a h k')\n",
        "solu =solve( a*(x-h)**2 + k - (3*x**2-6*x+7), [h,k,a] )\n",
        "\n",
        "h = solu[0][0]\n",
        "k = solu[0][1]\n",
        "a = solu[0][2]\n",
        "\n",
        "a*(x-h)**2 + k\n"
      ],
      "execution_count": null,
      "outputs": [
        {
          "output_type": "execute_result",
          "data": {
            "image/png": "[encoded data removed]",
            "text/latex": "$$3 \\left(x - 1\\right)^{2} + 4$$",
            "text/plain": [
              "         2    \n",
              "3⋅(x - 1)  + 4"
            ]
          },
          "metadata": {
            "tags": []
          },
          "execution_count": 45
        }
      ]
    },
    {
      "cell_type": "markdown",
      "metadata": {
        "id": "PacdnpjRarXQ"
      },
      "source": [
        "# **RESOLUCIÓN DE INECUACIONES**\n",
        "#### <center> **OPERADORES DE COMPARACIÓN** </center>\n",
        "|        NOMBRE      | SIMBOLO  |\n",
        "|:--------------------:|:--------:|\n",
        "| Mayor o igual a      |  (>=)    |\n",
        "| Menor o igual a      |  (<=)    |\n",
        "| Estrictamente mayor  |   (>)    |\n",
        "| Estrictamente menor  |   (<)    |"
      ]
    },
    {
      "cell_type": "markdown",
      "metadata": {
        "id": "x49phBBca-_i"
      },
      "source": [
        "## **Inecuaciones lineales**\n",
        "\n",
        "### **Ejemplo 1**\n",
        "Encuentra el conjunto solución de la inecuación:\n",
        "$$2x-3 \\geq 4$$"
      ]
    },
    {
      "cell_type": "code",
      "metadata": {
        "id": "iLXCCeeybGAz",
        "colab": {
          "base_uri": "https://localhost:8080/",
          "height": 37
        },
        "outputId": "82cb9435-63fd-4f75-88b6-596f54cbf0d4"
      },
      "source": [
        "from sympy.solvers.inequalities import reduce_inequalities\n",
        "reduce_inequalities(2 /(x**2-1)-1/(x*(x-1)) >= 2/(x**2), x).as_set()"
      ],
      "execution_count": null,
      "outputs": [
        {
          "output_type": "execute_result",
          "data": {
            "image/png": "[encoded data removed]",
            "text/latex": "$$\\left[-2, -1\\right)$$",
            "text/plain": [
              "[-2, -1)"
            ]
          },
          "metadata": {
            "tags": []
          },
          "execution_count": 10
        }
      ]
    },
    {
      "cell_type": "markdown",
      "metadata": {
        "id": "fTfnSHoJITB7"
      },
      "source": [
        "### **Ejemplo 2**\n",
        "Encuentra el conjunto solución de la inecuación:\n",
        "$$2x-5 \\geq 8 + 10x$$"
      ]
    },
    {
      "cell_type": "code",
      "metadata": {
        "id": "OJw80Zcx_k7N",
        "colab": {
          "base_uri": "https://localhost:8080/",
          "height": 38
        },
        "outputId": "ba0e5769-e803-4a83-90ec-175945e11408"
      },
      "source": [
        "x,y = symbols(\"x y \", real= True)\n",
        "from sympy.solvers.inequalities import reduce_inequalities\n",
        "reduce_inequalities(2*x-5 >= 8 + 10*x, x).as_set()"
      ],
      "execution_count": null,
      "outputs": [
        {
          "output_type": "execute_result",
          "data": {
            "image/png": "[encoded data removed]",
            "text/latex": "$$\\left(-\\infty, - \\frac{13}{8}\\right]$$",
            "text/plain": [
              "(-∞, -13/8]"
            ]
          },
          "metadata": {
            "tags": []
          },
          "execution_count": 11
        }
      ]
    },
    {
      "cell_type": "markdown",
      "metadata": {
        "id": "jOBUZ-f0dKKh"
      },
      "source": [
        "## **Inecuaciones cuadráticas**\n",
        "\n",
        "### **Ejemplo 1**\n",
        "Encuentra el conjunto solución de la inecuación:\n",
        "$$3x^2-5x \\leq 2$$"
      ]
    },
    {
      "cell_type": "code",
      "metadata": {
        "id": "dwSRIerFawJf",
        "colab": {
          "base_uri": "https://localhost:8080/",
          "height": 38
        },
        "outputId": "5f3bd262-9397-48e3-818c-018c81906529"
      },
      "source": [
        "from sympy.solvers.inequalities import reduce_inequalities\n",
        "reduce_inequalities(9*x**2-6*x<=-1,x).as_set()"
      ],
      "execution_count": null,
      "outputs": [
        {
          "output_type": "execute_result",
          "data": {
            "image/png": "[encoded data removed]",
            "text/latex": "$$\\left\\{\\frac{1}{3}\\right\\}$$",
            "text/plain": [
              "{1/3}"
            ]
          },
          "metadata": {
            "tags": []
          },
          "execution_count": 2
        }
      ]
    },
    {
      "cell_type": "markdown",
      "metadata": {
        "id": "p3RfrfF0Jqp-"
      },
      "source": [
        "### **Ejemplo 2**\n",
        "Encuentra el conjunto solución de la inecuación:\n",
        "$$x^2 < -x+12$$"
      ]
    },
    {
      "cell_type": "code",
      "metadata": {
        "id": "cGQKhtJgkn_Y",
        "colab": {
          "base_uri": "https://localhost:8080/",
          "height": 37
        },
        "outputId": "305a87eb-c89e-44fd-8750-e36c6e718d90"
      },
      "source": [
        "from sympy.solvers.inequalities import reduce_inequalities\n",
        "reduce_inequalities(x**2<-x+12, x).as_set()"
      ],
      "execution_count": null,
      "outputs": [
        {
          "output_type": "execute_result",
          "data": {
            "image/png": "[encoded data removed]",
            "text/latex": "$$\\left(-\\infty, 3\\right)$$",
            "text/plain": [
              "(-∞, 3)"
            ]
          },
          "metadata": {
            "tags": []
          },
          "execution_count": 49
        }
      ]
    },
    {
      "cell_type": "markdown",
      "metadata": {
        "id": "uMFbNuAod4P1"
      },
      "source": [
        "## **Inecuaciones racionales**\n",
        "\n",
        "### **Ejemplo 1**\n",
        "Encuentra el conjunto solución de la inecuación:\n",
        "$$ \\dfrac{3}{x+2}-\\dfrac{1}{x-2} \\leq \\dfrac{1}{x+1}$$"
      ]
    },
    {
      "cell_type": "code",
      "metadata": {
        "id": "thA3Nahkd6XB",
        "colab": {
          "base_uri": "https://localhost:8080/",
          "height": 38
        },
        "outputId": "2cce8171-da59-4d6c-96f4-f858a62f0d37"
      },
      "source": [
        "from sympy.solvers.inequalities import reduce_inequalities\n",
        "reduce_inequalities(3/(x+2) - 1/x-2 <= 1/(x+1),x).as_set()"
      ],
      "execution_count": null,
      "outputs": [
        {
          "output_type": "execute_result",
          "data": {
            "image/png": "[encoded data removed]",
            "text/latex": "$$\\left(-\\infty, -2\\right) \\cup \\left(-1, - \\frac{1}{2}\\right] \\cup \\left(0, \\infty\\right)$$",
            "text/plain": [
              "(-∞, -2) ∪ (-1, -1/2] ∪ (0, ∞)"
            ]
          },
          "metadata": {
            "tags": []
          },
          "execution_count": 12
        }
      ]
    },
    {
      "cell_type": "markdown",
      "metadata": {
        "id": "gGJot3ieH6iH"
      },
      "source": [
        "### **Ejemplo 2**\n",
        "Encuentra el conjunto solución de la inecuación:\n",
        "$$\\dfrac{1}{x} \\leq \\dfrac{1}{x^2}$$"
      ]
    },
    {
      "cell_type": "code",
      "metadata": {
        "id": "0IKL1YQuTG8I",
        "colab": {
          "base_uri": "https://localhost:8080/",
          "height": 37
        },
        "outputId": "e4b6bad9-7d48-461a-ff61-c950aa7df671"
      },
      "source": [
        "from sympy.solvers.inequalities import reduce_inequalities\n",
        "reduce_inequalities(1/x <= 1/(x**2), x).as_set()"
      ],
      "execution_count": null,
      "outputs": [
        {
          "output_type": "execute_result",
          "data": {
            "image/png": "[encoded data removed]",
            "text/latex": "$$\\left(-\\infty, 0\\right) \\cup \\left(0, 1\\right]$$",
            "text/plain": [
              "(-∞, 0) ∪ (0, 1]"
            ]
          },
          "metadata": {
            "tags": []
          },
          "execution_count": 13
        }
      ]
    },
    {
      "cell_type": "markdown",
      "metadata": {
        "id": "GQ4UA7pUKjjf"
      },
      "source": [
        "## **Inecuaciones polinómicas**\n",
        "\n",
        "\n",
        "Encuentra el conjunto solución de la inecuación:\n",
        "$$ 3x^3-10x^2+9x-2 < 0$$"
      ]
    },
    {
      "cell_type": "code",
      "metadata": {
        "id": "nK0l60X4plKd",
        "colab": {
          "base_uri": "https://localhost:8080/",
          "height": 39
        },
        "outputId": "476b6c3b-6925-4eeb-c0cd-b97bef717d00"
      },
      "source": [
        "from sympy.solvers.inequalities import reduce_inequalities\n",
        "reduce_inequalities(3*x**3-10*x**2+9*x-2 <0).as_set()"
      ],
      "execution_count": null,
      "outputs": [
        {
          "output_type": "execute_result",
          "data": {
            "image/png": "[encoded data removed]",
            "text/latex": "$$\\left(-\\infty, \\frac{1}{3}\\right) \\cup \\left(1, 2\\right)$$",
            "text/plain": [
              "(-∞, 1/3) ∪ (1, 2)"
            ]
          },
          "metadata": {
            "tags": []
          },
          "execution_count": 6
        }
      ]
    },
    {
      "cell_type": "markdown",
      "metadata": {
        "id": "Jr1ox7ZdhAf8"
      },
      "source": [
        "## **Inecuaciones con valor absoluto**\n",
        "\n",
        "### **Ejemplo 1**: \n",
        "Usando  la función **reduce_inequalities**\n",
        "\n",
        "Encuentra el conjunto solución de la inecuación:\n",
        "$$ \\left|\\dfrac{x-2}{3}\\right|< 2$$"
      ]
    },
    {
      "cell_type": "code",
      "metadata": {
        "colab": {
          "base_uri": "https://localhost:8080/",
          "height": 37
        },
        "id": "rHD3QHgdLQah",
        "outputId": "cdf9b32e-4446-4181-b280-16583cff580d"
      },
      "source": [
        "from sympy.solvers.inequalities import reduce_inequalities\n",
        "reduce_inequalities(abs((x-2)/3) < 2).as_set()"
      ],
      "execution_count": null,
      "outputs": [
        {
          "output_type": "execute_result",
          "data": {
            "image/png": "[encoded data removed]",
            "text/latex": "$$\\left(-4, 8\\right)$$",
            "text/plain": [
              "(-4, 8)"
            ]
          },
          "metadata": {
            "tags": []
          },
          "execution_count": 17
        }
      ]
    },
    {
      "cell_type": "markdown",
      "metadata": {
        "id": "r1mi2yrSM15s"
      },
      "source": [
        "### **Ejemplo 2**\n",
        "\n",
        "Usando  la función **reduce_abs_inequality**\n",
        "\n",
        "Encuentra el conjunto solución de la inecuación:\n",
        "$$ |x+2|< 13$$"
      ]
    },
    {
      "cell_type": "code",
      "metadata": {
        "id": "y4bT0P3ohDFA",
        "colab": {
          "base_uri": "https://localhost:8080/",
          "height": 37
        },
        "outputId": "2673c2aa-fd2b-40c6-dbaa-1adee44411e7"
      },
      "source": [
        "from sympy.solvers.inequalities import reduce_abs_inequality\n",
        "x = Symbol('x', real=True)\n",
        "reduce_inequalities(abs(x+2) < 13, x ).as_set()"
      ],
      "execution_count": null,
      "outputs": [
        {
          "output_type": "execute_result",
          "data": {
            "image/png": "[encoded data removed]",
            "text/latex": "$$\\left(-15, 11\\right)$$",
            "text/plain": [
              "(-15, 11)"
            ]
          },
          "metadata": {
            "tags": []
          },
          "execution_count": 18
        }
      ]
    }
  ]
}