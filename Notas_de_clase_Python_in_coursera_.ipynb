{
  "nbformat": 4,
  "nbformat_minor": 0,
  "metadata": {
    "colab": {
      "name": "Notas de clase: Python in coursera .ipynb",
      "provenance": [],
      "collapsed_sections": [],
      "authorship_tag": "ABX9TyN5DIji6q1lXqxIQkCiwhFh",
      "include_colab_link": true
    },
    "kernelspec": {
      "name": "python3",
      "display_name": "Python 3"
    }
  },
  "cells": [
    {
      "cell_type": "markdown",
      "metadata": {
        "id": "view-in-github",
        "colab_type": "text"
      },
      "source": [
        "<a href=\"https://colab.research.google.com/github/josorio398/NOTAS-DE-CLASE-COURSERA/blob/master/Notas_de_clase_Python_in_coursera_.ipynb\" target=\"_parent\"><img src=\"https://colab.research.google.com/assets/colab-badge.svg\" alt=\"Open In Colab\"/></a>"
      ]
    },
    {
      "cell_type": "markdown",
      "metadata": {
        "id": "JCwLBirss5dO",
        "colab_type": "text"
      },
      "source": [
        " ## **NOTAS DE CLASE**:  *PYTHON BASICS IN COURSERA*"
      ]
    },
    {
      "cell_type": "markdown",
      "metadata": {
        "id": "80bdA1SauOFI",
        "colab_type": "text"
      },
      "source": [
        "What is the value of the following expression:"
      ]
    },
    {
      "cell_type": "code",
      "metadata": {
        "id": "EQoGEWlkuqTe",
        "colab_type": "code",
        "colab": {
          "base_uri": "https://localhost:8080/",
          "height": 35
        },
        "outputId": "ef8cf876-9c6c-4c2f-88d7-14edfd031314"
      },
      "source": [
        "16 - 2 * 5 // 3 + 1"
      ],
      "execution_count": 6,
      "outputs": [
        {
          "output_type": "execute_result",
          "data": {
            "text/plain": [
              "14"
            ]
          },
          "metadata": {
            "tags": []
          },
          "execution_count": 6
        }
      ]
    },
    {
      "cell_type": "markdown",
      "metadata": {
        "colab_type": "text",
        "id": "Sqznc4eIuX91"
      },
      "source": [
        "# 1. **Reassignment**\n",
        "\n",
        "\n",
        "\n"
      ]
    },
    {
      "cell_type": "code",
      "metadata": {
        "id": "8hSeZ8w36996",
        "colab_type": "code",
        "colab": {
          "base_uri": "https://localhost:8080/",
          "height": 321
        },
        "outputId": "ba3f0d1e-b1a4-445f-f9e2-6ada9736bfc8"
      },
      "source": [
        "from IPython.display import YouTubeVideo\n",
        "YouTubeVideo('Px1c-3GP-5o')"
      ],
      "execution_count": 33,
      "outputs": [
        {
          "output_type": "execute_result",
          "data": {
            "text/html": [
              "\n",
              "        <iframe\n",
              "            width=\"400\"\n",
              "            height=\"300\"\n",
              "            src=\"https://www.youtube.com/embed/Px1c-3GP-5o\"\n",
              "            frameborder=\"0\"\n",
              "            allowfullscreen\n",
              "        ></iframe>\n",
              "        "
            ],
            "text/plain": [
              "<IPython.lib.display.YouTubeVideo at 0x7f58f5734da0>"
            ],
            "image/jpeg": "[encoded data removed]"
          },
          "metadata": {
            "tags": []
          },
          "execution_count": 33
        }
      ]
    },
    {
      "cell_type": "code",
      "metadata": {
        "id": "1ztWeCl8xOet",
        "colab_type": "code",
        "colab": {
          "base_uri": "https://localhost:8080/",
          "height": 124
        },
        "outputId": "89241ab3-bead-45b7-cc0a-0a111d936cd4"
      },
      "source": [
        "bruce = 5\n",
        "print(bruce)\n",
        "print(id(bruce))\n",
        "bruce = 7\n",
        "print(bruce)\n",
        "print(id(bruce))\n",
        "print(id(5))\n",
        "print(id(7))\n"
      ],
      "execution_count": 26,
      "outputs": [
        {
          "output_type": "stream",
          "text": [
            "5\n",
            "10914624\n",
            "7\n",
            "10914688\n",
            "10914624\n",
            "10914688\n"
          ],
          "name": "stdout"
        }
      ]
    },
    {
      "cell_type": "code",
      "metadata": {
        "id": "WOeLdpx_0FM4",
        "colab_type": "code",
        "colab": {
          "base_uri": "https://localhost:8080/",
          "height": 159
        },
        "outputId": "c359c5f7-088b-456e-d72f-594a64131720"
      },
      "source": [
        "a = 5\n",
        "b = a    # after executing this line, a and b are now equal\n",
        "print(id(5))\n",
        "print(id(a))\n",
        "print(id(b))\n",
        "print(a,b)\n",
        "a = 3    # after executing this line, a and b are no longer equal\n",
        "print(a,b)\n",
        "print(id(3))\n",
        "print(id(a))\n",
        "print(id(b))"
      ],
      "execution_count": 31,
      "outputs": [
        {
          "output_type": "stream",
          "text": [
            "10914624\n",
            "10914624\n",
            "10914624\n",
            "5 5\n",
            "3 5\n",
            "10914560\n",
            "10914560\n",
            "10914624\n"
          ],
          "name": "stdout"
        }
      ]
    },
    {
      "cell_type": "markdown",
      "metadata": {
        "id": "lDYoLgy95WVW",
        "colab_type": "text"
      },
      "source": [
        "# 2. **Updating Variables**"
      ]
    },
    {
      "cell_type": "code",
      "metadata": {
        "id": "EA5T7ty_7UzD",
        "colab_type": "code",
        "colab": {
          "base_uri": "https://localhost:8080/",
          "height": 321
        },
        "outputId": "3310f90c-137d-4941-888e-6bdf19a6f425"
      },
      "source": [
        "from IPython.display import YouTubeVideo\n",
        "YouTubeVideo('G86akhNFHZA')"
      ],
      "execution_count": 34,
      "outputs": [
        {
          "output_type": "execute_result",
          "data": {
            "text/html": [
              "\n",
              "        <iframe\n",
              "            width=\"400\"\n",
              "            height=\"300\"\n",
              "            src=\"https://www.youtube.com/embed/G86akhNFHZA\"\n",
              "            frameborder=\"0\"\n",
              "            allowfullscreen\n",
              "        ></iframe>\n",
              "        "
            ],
            "text/plain": [
              "<IPython.lib.display.YouTubeVideo at 0x7f58f5734828>"
            ],
            "image/jpeg": "[encoded data removed]"
          },
          "metadata": {
            "tags": []
          },
          "execution_count": 34
        }
      ]
    },
    {
      "cell_type": "code",
      "metadata": {
        "id": "YTwDiFKS5SjD",
        "colab_type": "code",
        "colab": {}
      },
      "source": [
        ""
      ],
      "execution_count": 0,
      "outputs": []
    }
  ]
}