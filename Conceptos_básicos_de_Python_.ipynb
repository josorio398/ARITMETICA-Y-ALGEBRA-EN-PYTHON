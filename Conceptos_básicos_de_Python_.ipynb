{
  "nbformat": 4,
  "nbformat_minor": 0,
  "metadata": {
    "colab": {
      "name": "Conceptos básicos de Python .ipynb",
      "provenance": [],
      "collapsed_sections": [],
      "include_colab_link": true
    },
    "kernelspec": {
      "name": "python3",
      "display_name": "Python 3"
    }
  },
  "cells": [
    {
      "cell_type": "markdown",
      "metadata": {
        "id": "view-in-github",
        "colab_type": "text"
      },
      "source": [
        "<a href=\"https://colab.research.google.com/github/josorio398/ARITMETICA-Y-ALGEBRA-EN-PYTHON/blob/master/Conceptos_b%C3%A1sicos_de_Python_.ipynb\" target=\"_parent\"><img src=\"https://colab.research.google.com/assets/colab-badge.svg\" alt=\"Open In Colab\"/></a>"
      ]
    },
    {
      "cell_type": "markdown",
      "metadata": {
        "id": "Wu9BDBPMTguh"
      },
      "source": [
        "<p><img alt=\"logo.fua\" height=\"100px\" src=\"https://github.com/josorio398/ALGEBRA-LINEAL-CON-PYTHON/blob/master/im%C3%A1genes%20repositorio/Logo%20UAm%C3%A9rica%20nuevo%202021.ai_page-0005.jpg?raw=true\" align=\"left\" hspace=\"0px\" vspace=\"0px\"></p>\n",
        "\n",
        "<p><img alt=\"logo.fua\" height=\"26px\" src=\"https://mirrors.creativecommons.org/presskit/buttons/88x31/svg/by-nd.svg\" align=\"right\" hspace=\"0px\" vspace=\"11px\"></p>\n",
        "\n",
        "\n",
        "<center> <font size=\"6\"><b>CONCEPTOS BÁSICOS DE PYTHON &nbsp; &nbsp; &nbsp;&nbsp;</b><center><I>Jhonny Osorio Gallego</I> &nbsp; &nbsp;&nbsp; &nbsp;&nbsp;&nbsp;&nbsp; &nbsp; &nbsp;&nbsp; &nbsp;<p></font></center> \n",
        " "
      ]
    },
    {
      "cell_type": "markdown",
      "metadata": {
        "id": "y7kFwt-idB6L"
      },
      "source": [
        "# **CONCEPTOS BÁSICOS**\n",
        "\n",
        "#  **¿Que es python?**\n",
        "\n",
        "Python es un lenguaje de programación creado por **Guido van Rossum** a principios de los años 90 cuyo nombre está inspirado en el grupo de cómicos ingleses “Monty Python”."
      ]
    },
    {
      "cell_type": "markdown",
      "metadata": {
        "id": "D548fR6ZT9yp"
      },
      "source": [
        "\n",
        "## **Principales caracteristicas del lenguaje**\n",
        "\n",
        "  1. Es un lenguaje de programación de **alto nivel**, expresa sus algoritmos de una manera adecuada muy cercanos a la cognición humana.\n",
        "  \n",
        "  2. Es **multipropósito** con aplicaciones en numerosas áreas como desarrollo web, big data, Data Science,computación científica e inteligencia artificial.\n",
        "\n",
        "  3. Es un lenguaje **interpretado**, es procesado en tiempo de ejecución por el intérprete, no es necesario compilar su programa antes de ejecutarlo. \n",
        "\n",
        "  4. Es de **tipado dinámico** no es necesario declarar el tipo de dato que va a contener una determinada variables.\n",
        "\n",
        "Es muy popular y utilizado por organizaciones como **Google**, **NASA**, **Netflix**, **Yahoo**, **Spotify**, **Instagram**.\n",
        "\n",
        "##**Versiones de Python**\n",
        "\n",
        "Las tres versiones principales de Python son **1.x**, **2.x** y **3.x**. Estas se subdividen en versiones menores, como 2.7 y 3.3.\n",
        "El código escrito para Python 3.x está garantizado para funcionar en todas las versiones futuras.\n",
        "Actualmente se utilizan Python versión **2.x** y **3.x.** Este curso cubre Python 3.x , pero no es difícil cambiar de una versión a otra.\n"
      ]
    },
    {
      "cell_type": "code",
      "metadata": {
        "id": "V0hRKlnWqhqZ"
      },
      "source": [
        "help()"
      ],
      "execution_count": null,
      "outputs": []
    },
    {
      "cell_type": "markdown",
      "metadata": {
        "id": "2Hmnk0xpXHj3"
      },
      "source": [
        "# **Su primer programa**\n",
        "Comencemos creando un programa corto que muestre \"¡Hola, mundo!\".\n",
        "En Python, usamos la declaración de impresión para generar texto:"
      ]
    },
    {
      "cell_type": "code",
      "metadata": {
        "id": "hNPhMLykYXBl",
        "colab": {
          "base_uri": "https://localhost:8080/"
        },
        "outputId": "d4e33e6c-b208-44b2-a3f8-e3772534b5dc"
      },
      "source": [
        "print(\"Hola mundo\")"
      ],
      "execution_count": null,
      "outputs": [
        {
          "output_type": "stream",
          "name": "stdout",
          "text": [
            "Hola mundo\n"
          ]
        }
      ]
    },
    {
      "cell_type": "code",
      "metadata": {
        "colab": {
          "base_uri": "https://localhost:8080/",
          "height": 35
        },
        "id": "Eciq0ogNJ_Dz",
        "outputId": "4220f5b1-987b-425f-b1cc-c12b8a2f86dc"
      },
      "source": [
        "\"Hola mundo\""
      ],
      "execution_count": null,
      "outputs": [
        {
          "output_type": "execute_result",
          "data": {
            "text/plain": [
              "'Hola mundo'"
            ],
            "application/vnd.google.colaboratory.intrinsic+json": {
              "type": "string"
            }
          },
          "metadata": {},
          "execution_count": 2
        }
      ]
    },
    {
      "cell_type": "markdown",
      "metadata": {
        "id": "3ZIX3ZRqr762"
      },
      "source": [
        "# **TIPOS DE DATOS EN PYTHON**\n",
        "Entre los tipos de datos simples de Python encontramos los **datos numéricos**, de **texto** y **logicos**."
      ]
    },
    {
      "cell_type": "markdown",
      "metadata": {
        "id": "jw_ML-8JITxE"
      },
      "source": [
        "# **DATOS NUMÉRICOS** \n",
        "\n",
        " Pueden ser **enteros** (si decimales) , **flotantes** (decimales), o **números complejos**"
      ]
    },
    {
      "cell_type": "markdown",
      "metadata": {
        "id": "umqwrMCuTcMc"
      },
      "source": [
        "##**Números enteros** </font>\n",
        "\n",
        "Los números enteros son aquellos que no tienen decimales, consideramos los positivos, los negativos y el cero."
      ]
    },
    {
      "cell_type": "code",
      "metadata": {
        "id": "fIzkIyP2vQIX",
        "colab": {
          "base_uri": "https://localhost:8080/",
          "height": 34
        },
        "outputId": "d5ab17a8-86b9-47e5-ad66-47fc8d9edba2"
      },
      "source": [
        "type(2)"
      ],
      "execution_count": null,
      "outputs": [
        {
          "output_type": "execute_result",
          "data": {
            "text/plain": [
              "int"
            ]
          },
          "metadata": {
            "tags": []
          },
          "execution_count": 1
        }
      ]
    },
    {
      "cell_type": "markdown",
      "metadata": {
        "id": "oPNrW0IVTRr0"
      },
      "source": [
        "## **Punto flotante** \n",
        "\n",
        "Los flotadores se usan en Python para representar números decimales o enteros , se pueden crear directamente ingresando un número con un punto decimal, o usando operaciones como la división en enteros. Los ceros adicionales al final del número se ignoran.\n"
      ]
    },
    {
      "cell_type": "code",
      "source": [
        "3.5634"
      ],
      "metadata": {
        "colab": {
          "base_uri": "https://localhost:8080/"
        },
        "id": "bNUrQr2Jkwhp",
        "outputId": "9f27e32e-8c95-4d5f-c11f-1ade83ece44d"
      },
      "execution_count": null,
      "outputs": [
        {
          "output_type": "execute_result",
          "data": {
            "text/plain": [
              "3.5634"
            ]
          },
          "metadata": {},
          "execution_count": 16
        }
      ]
    },
    {
      "cell_type": "code",
      "metadata": {
        "id": "FUQAQLPZvhpe",
        "colab": {
          "base_uri": "https://localhost:8080/"
        },
        "outputId": "bd8c8344-04b8-4a73-8ce8-6e6a36095667"
      },
      "source": [
        "type(3.5634)"
      ],
      "execution_count": null,
      "outputs": [
        {
          "output_type": "execute_result",
          "data": {
            "text/plain": [
              "float"
            ]
          },
          "metadata": {},
          "execution_count": 17
        }
      ]
    },
    {
      "cell_type": "code",
      "metadata": {
        "id": "XcWxLYnJc7GY",
        "colab": {
          "base_uri": "https://localhost:8080/"
        },
        "outputId": "8aa96658-705f-44f3-d27d-1942c1a7b130"
      },
      "source": [
        " 1/3"
      ],
      "execution_count": null,
      "outputs": [
        {
          "output_type": "execute_result",
          "data": {
            "text/plain": [
              "0.3333333333333333"
            ]
          },
          "metadata": {},
          "execution_count": 18
        }
      ]
    },
    {
      "cell_type": "code",
      "metadata": {
        "id": "0lqRU81pdBot",
        "colab": {
          "base_uri": "https://localhost:8080/"
        },
        "outputId": "c0b4ae3c-9803-44f5-8e74-b67df6dde327"
      },
      "source": [
        "type(1/3)"
      ],
      "execution_count": null,
      "outputs": [
        {
          "output_type": "execute_result",
          "data": {
            "text/plain": [
              "float"
            ]
          },
          "metadata": {},
          "execution_count": 19
        }
      ]
    },
    {
      "cell_type": "markdown",
      "metadata": {
        "id": "qIfXNGjzUFO5"
      },
      "source": [
        "## **Números complejos** </font>\n",
        "\n",
        "Son los números de la forma $a+bi$, donde $a$ es la parte real y $b$ la parte imaginaria"
      ]
    },
    {
      "cell_type": "code",
      "source": [
        "2 + 5.3j"
      ],
      "metadata": {
        "colab": {
          "base_uri": "https://localhost:8080/"
        },
        "id": "k3yP1RDBk-fW",
        "outputId": "20a9c272-6eb6-4835-8fff-555a4e2a128a"
      },
      "execution_count": null,
      "outputs": [
        {
          "output_type": "execute_result",
          "data": {
            "text/plain": [
              "(2+5.3j)"
            ]
          },
          "metadata": {},
          "execution_count": 20
        }
      ]
    },
    {
      "cell_type": "code",
      "metadata": {
        "id": "xij7cJCLUSTN",
        "colab": {
          "base_uri": "https://localhost:8080/"
        },
        "outputId": "157f6273-cc98-4f5a-e2e7-048a3a8818ba"
      },
      "source": [
        "type(2 + 5.3j)"
      ],
      "execution_count": null,
      "outputs": [
        {
          "output_type": "execute_result",
          "data": {
            "text/plain": [
              "complex"
            ]
          },
          "metadata": {},
          "execution_count": 21
        }
      ]
    },
    {
      "cell_type": "markdown",
      "metadata": {
        "id": "1PbI1jcQvDyW"
      },
      "source": [
        "#  **DATOS DE TEXTO**\n",
        "Son cadenas de caracteres. Este tipo es conocido como *string* y se escriben entre comillas dobles y simples."
      ]
    },
    {
      "cell_type": "code",
      "source": [
        "\"hola mundo\""
      ],
      "metadata": {
        "colab": {
          "base_uri": "https://localhost:8080/",
          "height": 35
        },
        "id": "jWAJGnknlCpZ",
        "outputId": "d6bd9999-50b8-4a49-8716-93e331ee8002"
      },
      "execution_count": null,
      "outputs": [
        {
          "output_type": "execute_result",
          "data": {
            "text/plain": [
              "'hola mundo'"
            ],
            "application/vnd.google.colaboratory.intrinsic+json": {
              "type": "string"
            }
          },
          "metadata": {},
          "execution_count": 22
        }
      ]
    },
    {
      "cell_type": "code",
      "metadata": {
        "id": "a1MwoM5dv2ua",
        "colab": {
          "base_uri": "https://localhost:8080/",
          "height": 33
        },
        "outputId": "6e6f1ae2-b639-4905-e165-f18f2d57f111"
      },
      "source": [
        "type(\"hola mundo\")"
      ],
      "execution_count": null,
      "outputs": [
        {
          "output_type": "execute_result",
          "data": {
            "text/plain": [
              "str"
            ]
          },
          "metadata": {
            "tags": []
          },
          "execution_count": 17
        }
      ]
    },
    {
      "cell_type": "markdown",
      "metadata": {
        "id": "iCGlta_RvHFo"
      },
      "source": [
        "\n",
        "# **DATOS LÓGICOS**\n",
        "Son para representar los valores booleanos: verdadero y falso."
      ]
    },
    {
      "cell_type": "code",
      "metadata": {
        "id": "MSke7WcSsq7x",
        "colab": {
          "base_uri": "https://localhost:8080/",
          "height": 33
        },
        "outputId": "77e1a570-2f7c-4314-fdc6-7cfa0c521343"
      },
      "source": [
        "type(True)"
      ],
      "execution_count": null,
      "outputs": [
        {
          "output_type": "execute_result",
          "data": {
            "text/plain": [
              "bool"
            ]
          },
          "metadata": {
            "tags": []
          },
          "execution_count": 18
        }
      ]
    },
    {
      "cell_type": "code",
      "metadata": {
        "id": "XNFhQnmDwQXa",
        "colab": {
          "base_uri": "https://localhost:8080/",
          "height": 33
        },
        "outputId": "d4e12e2c-c1dd-4dd5-a442-477f404164b7"
      },
      "source": [
        "type(False)"
      ],
      "execution_count": null,
      "outputs": [
        {
          "output_type": "execute_result",
          "data": {
            "text/plain": [
              "bool"
            ]
          },
          "metadata": {
            "tags": []
          },
          "execution_count": 19
        }
      ]
    },
    {
      "cell_type": "markdown",
      "metadata": {
        "id": "HtDANoNKI-ju"
      },
      "source": [
        "\n",
        "# **DATOS TIPO SECUENCIA**\n",
        "\n",
        "Las secuencias son contenedores donde los elementos se almacenan siguiendo un orden. Listas, tuplas, son las secuencias básicas que define Python. Además, un tipo de dato que ya conocemos, la cadena de caracteres, son también una secuencia ordenada de caracteres alfanuméricos."
      ]
    },
    {
      "cell_type": "markdown",
      "metadata": {
        "id": "LwRtdTbPJMv5"
      },
      "source": [
        "# **Listas**\n",
        "Permiten guardar un conjunto de datos que se pueden repetir y que pueden ser de distintos tipos. Es un tipo mutable. Los elementos en una lista se encuentran encerrados en un par de corchetes $[   ]$. "
      ]
    },
    {
      "cell_type": "code",
      "metadata": {
        "id": "m2xDGLogJo5Q",
        "colab": {
          "base_uri": "https://localhost:8080/"
        },
        "outputId": "a411e171-f1bf-460d-c6ca-6bc233e27bb5"
      },
      "source": [
        "[1,2,3,4]"
      ],
      "execution_count": null,
      "outputs": [
        {
          "output_type": "execute_result",
          "data": {
            "text/plain": [
              "[1, 2, 3, 4]"
            ]
          },
          "metadata": {},
          "execution_count": 6
        }
      ]
    },
    {
      "cell_type": "code",
      "source": [
        "type([1,2,3,4])"
      ],
      "metadata": {
        "colab": {
          "base_uri": "https://localhost:8080/"
        },
        "id": "rHi2zFy9jsYN",
        "outputId": "7b2d6eb5-3fed-4611-ddc4-e0b0a68709b5"
      },
      "execution_count": null,
      "outputs": [
        {
          "output_type": "execute_result",
          "data": {
            "text/plain": [
              "list"
            ]
          },
          "metadata": {},
          "execution_count": 7
        }
      ]
    },
    {
      "cell_type": "markdown",
      "metadata": {
        "id": "wJl_TJLVJNEs"
      },
      "source": [
        "# **Tuplas**\n",
        "Sirven para los mismo que las listas, pero en este caso es un tipo inmutable.  Los elementos en una lista se encuentran encerrados en un para de parentesis $( )$. "
      ]
    },
    {
      "cell_type": "code",
      "metadata": {
        "colab": {
          "base_uri": "https://localhost:8080/"
        },
        "outputId": "309432fe-52db-4f80-db10-c8bd5765d31d",
        "id": "rismxZCsj2u5"
      },
      "source": [
        "(1,2,3,4)"
      ],
      "execution_count": null,
      "outputs": [
        {
          "output_type": "execute_result",
          "data": {
            "text/plain": [
              "(1, 2, 3, 4)"
            ]
          },
          "metadata": {},
          "execution_count": 8
        }
      ]
    },
    {
      "cell_type": "code",
      "source": [
        "type((1,2,3,4))"
      ],
      "metadata": {
        "outputId": "48e906be-3499-4d94-f2ff-9afc57e03b62",
        "colab": {
          "base_uri": "https://localhost:8080/"
        },
        "id": "pDBjOe15j2u9"
      },
      "execution_count": null,
      "outputs": [
        {
          "output_type": "execute_result",
          "data": {
            "text/plain": [
              "tuple"
            ]
          },
          "metadata": {},
          "execution_count": 9
        }
      ]
    },
    {
      "cell_type": "markdown",
      "metadata": {
        "id": "L8-88r7GJg8Y"
      },
      "source": [
        "#**CONJUNTOS**\n",
        "\n",
        "Un conjunto es una colección desordenada de elementos únicos, es decir, que no se repiten.los elementos en el diccionario se encuentran encerrados en un par de corchetes { }."
      ]
    },
    {
      "cell_type": "code",
      "metadata": {
        "colab": {
          "base_uri": "https://localhost:8080/"
        },
        "outputId": "a0d79274-9b24-44d5-f473-f2f35fbd39ff",
        "id": "eCtL9DMbkAXe"
      },
      "source": [
        "{1,2,3,4}"
      ],
      "execution_count": null,
      "outputs": [
        {
          "output_type": "execute_result",
          "data": {
            "text/plain": [
              "{1, 2, 3, 4}"
            ]
          },
          "metadata": {},
          "execution_count": 10
        }
      ]
    },
    {
      "cell_type": "code",
      "source": [
        "type({1,2,3,4})"
      ],
      "metadata": {
        "outputId": "43ec4fe4-98ef-4f83-9f3e-da01502eb4f5",
        "colab": {
          "base_uri": "https://localhost:8080/"
        },
        "id": "NXBUBB6OkAXg"
      },
      "execution_count": null,
      "outputs": [
        {
          "output_type": "execute_result",
          "data": {
            "text/plain": [
              "set"
            ]
          },
          "metadata": {},
          "execution_count": 11
        }
      ]
    },
    {
      "cell_type": "markdown",
      "metadata": {
        "id": "eeHzIwsRJNU9"
      },
      "source": [
        "# **DICCIONARIOS**\n",
        " Los diccionarios en Python nos permiten almacenar una serie de mapeos entre dos conjuntos de elementos, llamados keys and values (Claves y Valores). Todos los elementos en el diccionario se encuentran encerrados en un par de corchetes { }. "
      ]
    },
    {
      "cell_type": "code",
      "metadata": {
        "id": "J257i74xJDQF",
        "colab": {
          "base_uri": "https://localhost:8080/"
        },
        "outputId": "44446b22-eb6c-4f8d-94a3-2c28f33e86e5"
      },
      "source": [
        "{\"papa\":5000,\"tomate\":500,\"naranja\":1000}"
      ],
      "execution_count": null,
      "outputs": [
        {
          "output_type": "execute_result",
          "data": {
            "text/plain": [
              "{'naranja': 1000, 'papa': 5000, 'tomate': 500}"
            ]
          },
          "metadata": {},
          "execution_count": 12
        }
      ]
    },
    {
      "cell_type": "code",
      "source": [
        "type({\"papa\":5000,\"tomate\":500,\"naranja\":1000})"
      ],
      "metadata": {
        "colab": {
          "base_uri": "https://localhost:8080/"
        },
        "id": "JSFz-7DUkZ8m",
        "outputId": "1b15b569-4bea-41b3-de9a-86f01ef7f822"
      },
      "execution_count": null,
      "outputs": [
        {
          "output_type": "execute_result",
          "data": {
            "text/plain": [
              "dict"
            ]
          },
          "metadata": {},
          "execution_count": 13
        }
      ]
    },
    {
      "cell_type": "markdown",
      "metadata": {
        "id": "O6GrynaRk4pJ"
      },
      "source": [
        "\n",
        "# **VARIABLES**\n",
        "\n",
        "Las variables juegan un papel muy importante en la mayoría de los lenguajes de programación, y Python no es una excepción . Una variable le permite almacenar un valor asignándolo a un nombre, que puede usarse para referirse al valor más adelante en el programa.\n",
        "\n",
        "#**Asignación de variables**\n",
        "\n",
        "Para asignar una variable , use un signo igual . A diferencia de la mayoría de las líneas de código que hemos visto hasta ahora, no produce ningún resultado en la consola de Python, a menos que se deje esta variable en la ultima lineadel código o se imprima\n"
      ]
    },
    {
      "cell_type": "code",
      "metadata": {
        "id": "AT4-XhnplAmM",
        "colab": {
          "base_uri": "https://localhost:8080/"
        },
        "outputId": "b1c0175b-6473-4e81-fbd7-27ce1c3a6d3c"
      },
      "source": [
        "x = 7 \n",
        "x"
      ],
      "execution_count": null,
      "outputs": [
        {
          "output_type": "execute_result",
          "data": {
            "text/plain": [
              "7"
            ]
          },
          "metadata": {},
          "execution_count": 23
        }
      ]
    },
    {
      "cell_type": "code",
      "metadata": {
        "id": "Cm97ZokxlS-V",
        "colab": {
          "base_uri": "https://localhost:8080/"
        },
        "outputId": "b85b86b0-5ca5-415a-ea70-a4e4c22b1e64"
      },
      "source": [
        "x + 3"
      ],
      "execution_count": null,
      "outputs": [
        {
          "output_type": "execute_result",
          "data": {
            "text/plain": [
              "10"
            ]
          },
          "metadata": {},
          "execution_count": 24
        }
      ]
    },
    {
      "cell_type": "markdown",
      "metadata": {
        "id": "Q5dF4Uv5lRYe"
      },
      "source": [
        "Puede usar variables para realizar las operaciones correspondientes, tal como lo hizo con números y cadenas. la variable almacena su valor."
      ]
    },
    {
      "cell_type": "code",
      "metadata": {
        "id": "TWRzbSBxlej5",
        "colab": {
          "base_uri": "https://localhost:8080/"
        },
        "outputId": "aec336ad-3271-4ee9-ac87-0492f52b6659"
      },
      "source": [
        "x = 3.24 \n",
        "4*x-1"
      ],
      "execution_count": null,
      "outputs": [
        {
          "output_type": "execute_result",
          "data": {
            "text/plain": [
              "11.96"
            ]
          },
          "metadata": {},
          "execution_count": 25
        }
      ]
    },
    {
      "cell_type": "markdown",
      "metadata": {
        "id": "SVz1hHAemDRY"
      },
      "source": [
        "#**Reasignación de variables**\n",
        "Las variables se pueden reasignar tantas veces como desee, para cambiar su valor.\n",
        "En Python, las variables no tienen tipos específicos, por lo que puede asignar una cadena a una variable y luego asignar un número entero a la misma variable ."
      ]
    },
    {
      "cell_type": "code",
      "metadata": {
        "id": "NKuSWOVSmENO",
        "colab": {
          "base_uri": "https://localhost:8080/",
          "height": 33
        },
        "outputId": "0bea3eb9-71c4-4762-a63b-b781a93a8e3a"
      },
      "source": [
        "x = 123.456 \n",
        "print (x) "
      ],
      "execution_count": null,
      "outputs": [
        {
          "output_type": "stream",
          "text": [
            "123.456\n"
          ],
          "name": "stdout"
        }
      ]
    },
    {
      "cell_type": "code",
      "metadata": {
        "id": "YwsNdUl2mNW0",
        "colab": {
          "base_uri": "https://localhost:8080/",
          "height": 33
        },
        "outputId": "91b54783-a3c7-499e-c5cd-91f9cfc22992"
      },
      "source": [
        "x = \"Esto es una cadena \" \n",
        "print (x + \"!\") "
      ],
      "execution_count": null,
      "outputs": [
        {
          "output_type": "stream",
          "text": [
            "Esto es una cadena !\n"
          ],
          "name": "stdout"
        }
      ]
    },
    {
      "cell_type": "code",
      "metadata": {
        "id": "ihIpudwTmkAo",
        "colab": {
          "base_uri": "https://localhost:8080/",
          "height": 35
        },
        "outputId": "d3fb99c9-aaa5-40c9-de5d-afc8d316cd47"
      },
      "source": [
        "x = 5\n",
        "y = 7\n",
        "print(x+y)"
      ],
      "execution_count": null,
      "outputs": [
        {
          "output_type": "stream",
          "text": [
            "12\n"
          ],
          "name": "stdout"
        }
      ]
    },
    {
      "cell_type": "markdown",
      "metadata": {
        "id": "shGfKKMa-VnS"
      },
      "source": [
        "# **OPERADORES DE COMPARACIÓN**\n",
        "\n",
        "Se utilizan para comparar dos o mas valores y sus valor es un booleano."
      ]
    },
    {
      "cell_type": "markdown",
      "metadata": {
        "id": "0Hu21mZE-0dC"
      },
      "source": [
        "#### <center> **TABLA DE OPERADORES DE COMPARACIÓN** </center>\n",
        "| Operador |         Descripción        |     Ejemplo     |   salida   |       \n",
        "|:--------:|:--------------------------:|:---------------:|:----------:|\n",
        "|    ==    |     ¿son iguales a y b?    | 5 == 3          |   False    |\n",
        "|    !=    |    ¿son distintos a y b?   |  5 != 3         | True\n",
        "|     <    |     ¿es a menor que b?     |  5 < 3         | False \n",
        "|     >    |     ¿es a mayor que b?     |   5 > 3     | True\n",
        "|    <=    | ¿es a menor o igual que b? |  5 <= 5     | True\n",
        "|    >=    | ¿es a mayor o igual que b? |   5 >= 3  |  True "
      ]
    },
    {
      "cell_type": "markdown",
      "metadata": {
        "id": "dXSA4ZdPHSwf"
      },
      "source": [
        "# **Comparación de expresiones** </font>"
      ]
    },
    {
      "cell_type": "code",
      "metadata": {
        "id": "yKSeY2JfEuqU",
        "colab": {
          "base_uri": "https://localhost:8080/",
          "height": 33
        },
        "outputId": "563e5da5-ed7e-431b-f86b-6d5e0f4d227c"
      },
      "source": [
        "1 != 1 "
      ],
      "execution_count": null,
      "outputs": [
        {
          "output_type": "execute_result",
          "data": {
            "text/plain": [
              "False"
            ]
          },
          "metadata": {
            "tags": []
          },
          "execution_count": 84
        }
      ]
    },
    {
      "cell_type": "code",
      "metadata": {
        "id": "cYDwx41nFJ_b",
        "colab": {
          "base_uri": "https://localhost:8080/",
          "height": 33
        },
        "outputId": "d62474cc-9fb6-4c8f-a419-6b3509551efa"
      },
      "source": [
        "7  > 5 "
      ],
      "execution_count": null,
      "outputs": [
        {
          "output_type": "execute_result",
          "data": {
            "text/plain": [
              "True"
            ]
          },
          "metadata": {
            "tags": []
          },
          "execution_count": 83
        }
      ]
    }
  ]
}