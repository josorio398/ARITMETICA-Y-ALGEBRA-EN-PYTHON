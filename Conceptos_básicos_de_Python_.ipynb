{
  "nbformat": 4,
  "nbformat_minor": 0,
  "metadata": {
    "colab": {
      "name": "Conceptos básicos de Python .ipynb",
      "provenance": [],
      "collapsed_sections": [],
      "include_colab_link": true
    },
    "kernelspec": {
      "name": "python3",
      "display_name": "Python 3"
    }
  },
  "cells": [
    {
      "cell_type": "markdown",
      "metadata": {
        "id": "view-in-github",
        "colab_type": "text"
      },
      "source": [
        "<a href=\"https://colab.research.google.com/github/josorio398/ARITMETICA-Y-ALGEBRA-EN-PYTHON/blob/master/Conceptos_b%C3%A1sicos_de_Python_.ipynb\" target=\"_parent\"><img src=\"https://colab.research.google.com/assets/colab-badge.svg\" alt=\"Open In Colab\"/></a>"
      ]
    },
    {
      "cell_type": "markdown",
      "metadata": {
        "id": "Wu9BDBPMTguh"
      },
      "source": [
        "<p><img alt=\"logo.fua\" height=\"100px\" src=\"https://www.uamerica.edu.co/wp-content/images/escudo.png\" align=\"left\" hspace=\"10px\" vspace=\"0px\"></p>\n",
        "\n",
        "<p><img alt=\"logo.fua\" height=\"26px\" src=\"https://mirrors.creativecommons.org/presskit/buttons/88x31/svg/by-nd.svg\" align=\"right\" hspace=\"0px\" vspace=\"11px\"></p>\n",
        "\n",
        "# <center> <font size=\"6\">**CONCEPTOS BÁSICOS DE PYTHON** <center>*Jhonny Osorio*</font> "
      ]
    },
    {
      "cell_type": "markdown",
      "metadata": {
        "id": "y7kFwt-idB6L"
      },
      "source": [
        "# **CONCEPTOS BÁSICOS**\n",
        "\n",
        "#  **¿Que es python?**\n",
        "\n",
        "Python es un lenguaje de programación creado por **Guido van Rossum** a principios de los años 90 cuyo nombre está inspirado en el grupo de cómicos ingleses “Monty Python”."
      ]
    },
    {
      "cell_type": "markdown",
      "metadata": {
        "id": "D548fR6ZT9yp"
      },
      "source": [
        "\n",
        "## **Principales caracteristicas del lenguaje**\n",
        "\n",
        "  1. Es un lenguaje de programación de **alto nivel**, expresa sus algoritmos de una manera adecuada muy cercanos a la cognición humana.\n",
        "  \n",
        "  2. Es **multipropósito** con aplicaciones en numerosas áreas como desarrollo web, big data, Data Science,computación científica e inteligencia artificial.\n",
        "\n",
        "  3. Es un lenguaje **interpretado**, es procesado en tiempo de ejecución por el intérprete, no es necesario compilar su programa antes de ejecutarlo. \n",
        "\n",
        "  4. Es de **tipado dinámico** no es necesario declarar el tipo de dato que va a contener una determinada variables.\n",
        "\n",
        "Es muy popular y utilizado por organizaciones como **Google**, **NASA**, **Netflix**, **Yahoo**, **Spotify**, **Instagram**.\n",
        "\n",
        "##**Versiones de Python**\n",
        "\n",
        "Las tres versiones principales de Python son **1.x**, **2.x** y **3.x**. Estas se subdividen en versiones menores, como 2.7 y 3.3.\n",
        "El código escrito para Python 3.x está garantizado para funcionar en todas las versiones futuras.\n",
        "Actualmente se utilizan Python versión **2.x** y **3.x.** Este curso cubre Python 3.x , pero no es difícil cambiar de una versión a otra.\n"
      ]
    },
    {
      "cell_type": "code",
      "metadata": {
        "id": "V0hRKlnWqhqZ"
      },
      "source": [
        "help()"
      ],
      "execution_count": null,
      "outputs": []
    },
    {
      "cell_type": "markdown",
      "metadata": {
        "id": "2Hmnk0xpXHj3"
      },
      "source": [
        "# **Su primer programa**\n",
        "Comencemos creando un programa corto que muestre \"¡Hola, mundo!\".\n",
        "En Python, usamos la declaración de impresión para generar texto:"
      ]
    },
    {
      "cell_type": "code",
      "metadata": {
        "id": "hNPhMLykYXBl",
        "colab": {
          "base_uri": "https://localhost:8080/",
          "height": 33
        },
        "outputId": "78eef691-3863-4b50-a8e5-7091d784dcae"
      },
      "source": [
        "print(\"¡Hola mundo\")"
      ],
      "execution_count": null,
      "outputs": [
        {
          "output_type": "stream",
          "text": [
            "¡Hola mundo\n"
          ],
          "name": "stdout"
        }
      ]
    },
    {
      "cell_type": "code",
      "metadata": {
        "colab": {
          "base_uri": "https://localhost:8080/",
          "height": 34
        },
        "id": "Eciq0ogNJ_Dz",
        "outputId": "b621989c-4dc3-464d-8a62-342b71c4bac9"
      },
      "source": [
        "\"¡Hola mundo\""
      ],
      "execution_count": null,
      "outputs": [
        {
          "output_type": "execute_result",
          "data": {
            "application/vnd.google.colaboratory.intrinsic+json": {
              "type": "string"
            },
            "text/plain": [
              "'¡Hola mundo'"
            ]
          },
          "metadata": {
            "tags": []
          },
          "execution_count": 1
        }
      ]
    },
    {
      "cell_type": "markdown",
      "metadata": {
        "id": "DovHXQwhxDsB"
      },
      "source": [
        "<p><height=\"45px\" src=\"<a href=\"https://ibb.co/pZYMC0T\"><img src=\"https://i.ibb.co/Gkz8gxD/actividad.png\" align=\"left\" alt=\"\" width=\"4%\" height=\"5%\"></a><p>\n",
        "<font size=5><strong>&nbsp;Ejercicio de práctica:</strong></font> \n",
        "\n",
        "Imprima su nombre en la pantalla haciendo uso de la función **print** de Python."
      ]
    },
    {
      "cell_type": "code",
      "metadata": {
        "id": "uNoEzhi7VFIo"
      },
      "source": [
        ""
      ],
      "execution_count": null,
      "outputs": []
    },
    {
      "cell_type": "markdown",
      "metadata": {
        "id": "ab632JIXVNxO"
      },
      "source": [
        "Posibles errores que se pueden presentar al escribir este código."
      ]
    },
    {
      "cell_type": "markdown",
      "metadata": {
        "id": "OluLjZI4iR5T"
      },
      "source": [
        "## **Errores de indentación, nombre y sintaxis** </font>"
      ]
    },
    {
      "cell_type": "code",
      "metadata": {
        "id": "6VO5_trJiMg8"
      },
      "source": [
        "print ('¡Hola mundo!') \n",
        " print ('¡Hola mundo!') "
      ],
      "execution_count": null,
      "outputs": []
    },
    {
      "cell_type": "code",
      "metadata": {
        "id": "xSobAd08iLE1"
      },
      "source": [
        "Print('¡Hola mundo!') "
      ],
      "execution_count": null,
      "outputs": []
    },
    {
      "cell_type": "code",
      "metadata": {
        "id": "b13ySmu9i9uf"
      },
      "source": [
        "print(Hola mundo!) "
      ],
      "execution_count": null,
      "outputs": []
    },
    {
      "cell_type": "code",
      "metadata": {
        "id": "fFGHCpcFj3Kl"
      },
      "source": [
        "print \"Hola mundo!\""
      ],
      "execution_count": null,
      "outputs": []
    },
    {
      "cell_type": "markdown",
      "metadata": {
        "id": "2DlZRRXVaI-n"
      },
      "source": [
        "## **Imprimir texto**"
      ]
    },
    {
      "cell_type": "code",
      "metadata": {
        "id": "8iuhU7aqTjIO",
        "colab": {
          "base_uri": "https://localhost:8080/",
          "height": 67
        },
        "outputId": "924c17f6-3804-4d17-bdff-9a057ad816e2"
      },
      "source": [
        "print (\"Bienvenidos \\n\\n al curso de introduccón a python\") "
      ],
      "execution_count": null,
      "outputs": [
        {
          "output_type": "stream",
          "text": [
            "Bienvenidos \n",
            "\n",
            " al curso de introduccón a python\n"
          ],
          "name": "stdout"
        }
      ]
    },
    {
      "cell_type": "markdown",
      "metadata": {
        "id": "3ZIX3ZRqr762"
      },
      "source": [
        "# **TIPOS DE DATOS EN PYTHON**\n",
        "Entre los tipos de datos simples de Python encontramos los **datos numéricos**, de **texto** y **logicos**."
      ]
    },
    {
      "cell_type": "markdown",
      "metadata": {
        "id": "jw_ML-8JITxE"
      },
      "source": [
        "# **DATOS NUMÉRICOS** \n",
        "\n",
        " Pueden ser **enteros** (si decimales) , **flotantes** (decimales), o **números complejos**"
      ]
    },
    {
      "cell_type": "markdown",
      "metadata": {
        "id": "umqwrMCuTcMc"
      },
      "source": [
        "##**Números enteros** </font>\n",
        "\n",
        "Los números enteros son aquellos que no tienen decimales, consideramos los positivos, los negativos y el cero."
      ]
    },
    {
      "cell_type": "code",
      "metadata": {
        "id": "fIzkIyP2vQIX",
        "colab": {
          "base_uri": "https://localhost:8080/",
          "height": 34
        },
        "outputId": "d5ab17a8-86b9-47e5-ad66-47fc8d9edba2"
      },
      "source": [
        "type(2)"
      ],
      "execution_count": null,
      "outputs": [
        {
          "output_type": "execute_result",
          "data": {
            "text/plain": [
              "int"
            ]
          },
          "metadata": {
            "tags": []
          },
          "execution_count": 1
        }
      ]
    },
    {
      "cell_type": "markdown",
      "metadata": {
        "id": "oPNrW0IVTRr0"
      },
      "source": [
        "## **Punto flotante** \n",
        "\n",
        "Los flotadores se usan en Python para representar números decimales o enteros , se pueden crear directamente ingresando un número con un punto decimal, o usando operaciones como la división en enteros. Los ceros adicionales al final del número se ignoran.\n"
      ]
    },
    {
      "cell_type": "code",
      "metadata": {
        "id": "FUQAQLPZvhpe",
        "colab": {
          "base_uri": "https://localhost:8080/",
          "height": 34
        },
        "outputId": "8ee5d35e-f476-46dd-edd6-e18e6c5a7290"
      },
      "source": [
        "type(2.0)"
      ],
      "execution_count": null,
      "outputs": [
        {
          "output_type": "execute_result",
          "data": {
            "text/plain": [
              "float"
            ]
          },
          "metadata": {
            "tags": []
          },
          "execution_count": 1
        }
      ]
    },
    {
      "cell_type": "code",
      "metadata": {
        "id": "ZpLxcXikeZAF",
        "colab": {
          "base_uri": "https://localhost:8080/",
          "height": 33
        },
        "outputId": "7b4b2191-d5ee-4dfe-892c-720da6d038ac"
      },
      "source": [
        "type(3.5634)"
      ],
      "execution_count": null,
      "outputs": [
        {
          "output_type": "execute_result",
          "data": {
            "text/plain": [
              "float"
            ]
          },
          "metadata": {
            "tags": []
          },
          "execution_count": 12
        }
      ]
    },
    {
      "cell_type": "code",
      "metadata": {
        "id": "XcWxLYnJc7GY"
      },
      "source": [
        " 1/3"
      ],
      "execution_count": null,
      "outputs": []
    },
    {
      "cell_type": "code",
      "metadata": {
        "id": "0lqRU81pdBot",
        "colab": {
          "base_uri": "https://localhost:8080/",
          "height": 33
        },
        "outputId": "fc19d9db-2518-4c3e-bfdc-ba5ce6dad1d1"
      },
      "source": [
        "type(1/3)"
      ],
      "execution_count": null,
      "outputs": [
        {
          "output_type": "execute_result",
          "data": {
            "text/plain": [
              "float"
            ]
          },
          "metadata": {
            "tags": []
          },
          "execution_count": 14
        }
      ]
    },
    {
      "cell_type": "markdown",
      "metadata": {
        "id": "qIfXNGjzUFO5"
      },
      "source": [
        "## **Números complejos** </font>\n",
        "\n",
        "Son los números de la forma $a+bi$, donde $a$ es la parte real y $b$ la parte imaginaria"
      ]
    },
    {
      "cell_type": "code",
      "metadata": {
        "id": "xij7cJCLUSTN",
        "colab": {
          "base_uri": "https://localhost:8080/",
          "height": 33
        },
        "outputId": "30047b37-8743-4ef8-aa4b-c6b782ef1686"
      },
      "source": [
        "type(2 + 5.3j)"
      ],
      "execution_count": null,
      "outputs": [
        {
          "output_type": "execute_result",
          "data": {
            "text/plain": [
              "complex"
            ]
          },
          "metadata": {
            "tags": []
          },
          "execution_count": 16
        }
      ]
    },
    {
      "cell_type": "markdown",
      "metadata": {
        "id": "1PbI1jcQvDyW"
      },
      "source": [
        "#  **DATOS DE TEXTO**\n",
        "Son cadenas de caracteres. Este tipo es conocido como *string* y se escriben entre comillas dobles y simples."
      ]
    },
    {
      "cell_type": "code",
      "metadata": {
        "id": "a1MwoM5dv2ua",
        "colab": {
          "base_uri": "https://localhost:8080/",
          "height": 33
        },
        "outputId": "6e6f1ae2-b639-4905-e165-f18f2d57f111"
      },
      "source": [
        "type(\"hola mundo\")"
      ],
      "execution_count": null,
      "outputs": [
        {
          "output_type": "execute_result",
          "data": {
            "text/plain": [
              "str"
            ]
          },
          "metadata": {
            "tags": []
          },
          "execution_count": 17
        }
      ]
    },
    {
      "cell_type": "markdown",
      "metadata": {
        "id": "iCGlta_RvHFo"
      },
      "source": [
        "\n",
        "# **DATOS LÓGICOS**\n",
        "Son para representar los valores booleanos: verdadero y falso."
      ]
    },
    {
      "cell_type": "code",
      "metadata": {
        "id": "MSke7WcSsq7x",
        "colab": {
          "base_uri": "https://localhost:8080/",
          "height": 33
        },
        "outputId": "77e1a570-2f7c-4314-fdc6-7cfa0c521343"
      },
      "source": [
        "type(True)"
      ],
      "execution_count": null,
      "outputs": [
        {
          "output_type": "execute_result",
          "data": {
            "text/plain": [
              "bool"
            ]
          },
          "metadata": {
            "tags": []
          },
          "execution_count": 18
        }
      ]
    },
    {
      "cell_type": "code",
      "metadata": {
        "id": "XNFhQnmDwQXa",
        "colab": {
          "base_uri": "https://localhost:8080/",
          "height": 33
        },
        "outputId": "d4e12e2c-c1dd-4dd5-a442-477f404164b7"
      },
      "source": [
        "type(False)"
      ],
      "execution_count": null,
      "outputs": [
        {
          "output_type": "execute_result",
          "data": {
            "text/plain": [
              "bool"
            ]
          },
          "metadata": {
            "tags": []
          },
          "execution_count": 19
        }
      ]
    },
    {
      "cell_type": "markdown",
      "metadata": {
        "id": "HtDANoNKI-ju"
      },
      "source": [
        "\n",
        "# **DATOS TIPO SECUENCIA**"
      ]
    },
    {
      "cell_type": "markdown",
      "metadata": {
        "id": "LwRtdTbPJMv5"
      },
      "source": [
        "# **Listas**"
      ]
    },
    {
      "cell_type": "code",
      "metadata": {
        "id": "m2xDGLogJo5Q"
      },
      "source": [
        ""
      ],
      "execution_count": null,
      "outputs": []
    },
    {
      "cell_type": "markdown",
      "metadata": {
        "id": "wJl_TJLVJNEs"
      },
      "source": [
        "# **Tuplas**"
      ]
    },
    {
      "cell_type": "code",
      "metadata": {
        "id": "ZOzQPHPwJpjX"
      },
      "source": [
        ""
      ],
      "execution_count": null,
      "outputs": []
    },
    {
      "cell_type": "markdown",
      "metadata": {
        "id": "L8-88r7GJg8Y"
      },
      "source": [
        "#**Conjuntos**"
      ]
    },
    {
      "cell_type": "code",
      "metadata": {
        "id": "3lAiAV7fJqOX"
      },
      "source": [
        ""
      ],
      "execution_count": null,
      "outputs": []
    },
    {
      "cell_type": "markdown",
      "metadata": {
        "id": "eeHzIwsRJNU9"
      },
      "source": [
        "# **Diccionarios**"
      ]
    },
    {
      "cell_type": "code",
      "metadata": {
        "id": "J257i74xJDQF"
      },
      "source": [
        ""
      ],
      "execution_count": null,
      "outputs": []
    }
  ]
}