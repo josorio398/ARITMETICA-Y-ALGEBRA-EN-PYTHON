{
  "nbformat": 4,
  "nbformat_minor": 0,
  "metadata": {
    "colab": {
      "name": "Aritmética con Python.ipynb",
      "provenance": [],
      "collapsed_sections": [],
      "include_colab_link": true
    },
    "kernelspec": {
      "name": "python3",
      "display_name": "Python 3"
    }
  },
  "cells": [
    {
      "cell_type": "markdown",
      "metadata": {
        "id": "view-in-github",
        "colab_type": "text"
      },
      "source": [
        "<a href=\"https://colab.research.google.com/github/josorio398/ARITMETICA-Y-ALGEBRA-EN-PYTHON/blob/master/Aritm%C3%A9tica_con_Python.ipynb\" target=\"_parent\"><img src=\"https://colab.research.google.com/assets/colab-badge.svg\" alt=\"Open In Colab\"/></a>"
      ]
    },
    {
      "cell_type": "markdown",
      "metadata": {
        "id": "RVxHpsbcExUD"
      },
      "source": [
        "<p><img alt=\"logo.fua\" height=\"100px\" src=\"https://www.uamerica.edu.co/wp-content/images/escudo.png\" align=\"left\" hspace=\"10px\" vspace=\"20px\"></p>\n",
        "\n",
        "<p style=\"text-align: justify;\"><a rel=\"license\" href=\"http://creativecommons.org/licenses/by-nd/4.0/\"><img alt=\"Licencia Creative Commons\" style=\"border-width: 0;\" align=\"right\" height=\"26px\" src=\"https://mirrors.creativecommons.org/presskit/buttons/88x31/svg/by-nd.svg\" hspace=\"0px\" vspace=\"27px\"/></a><br /><span xmlns:dct=\"http://purl.org/dc/terms/\" href=\"http://purl.org/dc/dcmitype/InteractiveResource\"</p>\n",
        "\n",
        "# <center> <font size=\"6\">**ARITMÉTICA Y ÁLGEBRA CON PYTHON** <center>*Jhonny Osorio Gallego* &nbsp; &nbsp; &nbsp;<p></font> \n",
        "\n"
      ]
    },
    {
      "cell_type": "markdown",
      "metadata": {
        "id": "GlxXeL5VUpio"
      },
      "source": [
        "<H7><span xmlns:dct=\"http://purl.org/dc/terms/\" href=\"http://purl.org/dc/dcmitype/InteractiveResource\" property=\"dct:title\" rel=\"dct:type\">ARITM&Eacute;TICA Y &Aacute;LGEBRA CON PYTHON</span> por <a xmlns:cc=\"http://creativecommons.org/ns#\" href=\"https://chat.whatsapp.com/J4jXLxEcBMC64Oy8FcQUzy\" property=\"cc:attributionName\" rel=\"cc:attributionURL\">Jhonny Osorio Gallego</a> se distribuye bajo una <a rel=\"license\" href=\"http://creativecommons.org/licenses/by-nd/4.0/\">Licencia Creative Commons Atribuci&oacute;n-SinDerivadas 4.0 Internacional</a>.Basada en una obra en <a href=\"https://www.sympy.org/es/\">https://www.sympy.org/es/</a>.Permisos m&aacute;s all&aacute; del alcance de esta licencia pueden estar disponibles en&nbsp;<a xmlns:cc=\"http://creativecommons.org/ns#\" href=\"https://colab.research.google.com/drive/10LBu5b70ot6G3hQQYT51d3Uj51r7qC8C?usp=sharing\" rel=\"cc:morePermissions\">https://colab.research.google.com/drive/10LBu5b70ot6G3hQQYT51d3Uj51r7qC8C?usp=sharing</a>.</H1>"
      ]
    },
    {
      "cell_type": "markdown",
      "metadata": {
        "id": "pELON3yz_46g"
      },
      "source": [
        "# **ARITMÉTICA EN MÓDULO SYMPY**"
      ]
    },
    {
      "cell_type": "markdown",
      "metadata": {
        "id": "U515Q-sM2m9k"
      },
      "source": [
        "## **LIBRERÍA SIMBÓLICA SYMPY**\n",
        "\n",
        "**SymPy** es una biblioteca de Python para matemáticas simbólicas. Su objetivo es convertirse en un sistema de álgebra computacional (CAS) con todas las funciones, manteniendo el código lo más simple posible para que sea comprensible y fácilmente extensible. SymPy está escrito completamente en Python. [sympy.org](https://www.sympy.org/en/index.html)"
      ]
    },
    {
      "cell_type": "code",
      "metadata": {
        "id": "4wHJ9dZ3405h"
      },
      "source": [
        "from sympy import *\n",
        "init_printing() \n",
        "x,y,z,q = symbols(\"x y z q\")"
      ],
      "execution_count": null,
      "outputs": []
    },
    {
      "cell_type": "markdown",
      "metadata": {
        "id": "N4nHfCJUG7x5"
      },
      "source": [
        "# **OPERACIONES BÁSICAS**\n",
        "\n",
        "# **Operadores numéricos**\n",
        "Python tiene la capacidad de realizar cálculos, a continuación se presentan las operaciones con su operador correspondiente, la asociatividad y precedencia."
      ]
    },
    {
      "cell_type": "markdown",
      "metadata": {
        "id": "otHErDXuFhO_"
      },
      "source": [
        "#### <center> **TABLA DE OPERADORES NUMÉRICOS** </center>\n",
        "\n",
        "|    Operación    | Operador |      Asociatividad     | Precedencia |\n",
        "|:---------------:|:--------:|:----------------------:|:-----------:|\n",
        "|  Potenciación   |    **    | De derecha a izquierda |      1      |\n",
        "|  Multiplicación |     *    | De izquierda a derecha |      2      |\n",
        "|     División real   |     /    | De izquierda a derecha |      2      |\n",
        "| División entera |    //    | De izquierda a derecha |      2      |\n",
        "|  Módulo o Resto |     %    | De izquierda a derecha |      2      |\n",
        "|       Suma      |     +    | De izquierda a derecha |      3      |\n",
        "|      Resta      |     -    | De izquierda a derecha |      3      |"
      ]
    },
    {
      "cell_type": "markdown",
      "metadata": {
        "id": "JeMMvGbCrtrT"
      },
      "source": [
        "# **Suma y resta** </font>\n",
        "\n",
        "Las operaciones de suma y resta se realizan con los simbolos usuales.\n"
      ]
    },
    {
      "cell_type": "code",
      "metadata": {
        "id": "Ib7OsrgEi99S",
        "colab": {
          "base_uri": "https://localhost:8080/",
          "height": 33
        },
        "outputId": "79457a30-cf75-47e3-cb95-bc0bab23e965"
      },
      "source": [
        " 2 + 2 "
      ],
      "execution_count": null,
      "outputs": [
        {
          "output_type": "execute_result",
          "data": {
            "text/plain": [
              "4"
            ]
          },
          "metadata": {
            "tags": []
          },
          "execution_count": 23
        }
      ]
    },
    {
      "cell_type": "code",
      "metadata": {
        "id": "s4oSTViYenVQ",
        "colab": {
          "base_uri": "https://localhost:8080/",
          "height": 33
        },
        "outputId": "a6415650-94cc-4f71-fb37-d2128ead7f0d"
      },
      "source": [
        "\n",
        "5 + 4 - 3 "
      ],
      "execution_count": null,
      "outputs": [
        {
          "output_type": "execute_result",
          "data": {
            "text/plain": [
              "6"
            ]
          },
          "metadata": {
            "tags": []
          },
          "execution_count": 22
        }
      ]
    },
    {
      "cell_type": "markdown",
      "metadata": {
        "id": "tNJEXlqhjHt3"
      },
      "source": [
        "Los espacios alrededor de los signos más y menos aquí son opcionales (el código funcionaría sin ellos), pero hacen que sea más fácil de leer. las normas de escritura en python se encuentran en la pagina [https://www.python.org/dev/peps/pep-0008]( https://www.python.org/dev/peps/pep-0008/)\n",
        "\n"
      ]
    },
    {
      "cell_type": "markdown",
      "metadata": {
        "id": "pMZdPAMqr_xL"
      },
      "source": [
        "# **Multiplicación** </font>\n",
        "\n",
        "Se usa un asterisco **( * )** para indicar la multiplicación y una barra diagonal **( / )** para indicar la división real y paréntesis para determinar qué operaciones se realizan primero."
      ]
    },
    {
      "cell_type": "code",
      "metadata": {
        "id": "cjZTpobWrgXD",
        "colab": {
          "base_uri": "https://localhost:8080/",
          "height": 33
        },
        "outputId": "1a1cca46-3bcb-4443-ed9b-a3ecc8a5c9de"
      },
      "source": [
        " 2 * (3 + 4) "
      ],
      "execution_count": null,
      "outputs": [
        {
          "output_type": "execute_result",
          "data": {
            "text/plain": [
              "14"
            ]
          },
          "metadata": {
            "tags": []
          },
          "execution_count": 24
        }
      ]
    },
    {
      "cell_type": "markdown",
      "metadata": {
        "id": "2kMBYzNu_f08"
      },
      "source": [
        "# **División** </font>"
      ]
    },
    {
      "cell_type": "code",
      "metadata": {
        "id": "3jTQ74tPrp2v",
        "colab": {
          "base_uri": "https://localhost:8080/",
          "height": 33
        },
        "outputId": "d5fc54af-3ec1-441e-e48c-572aa64661bd"
      },
      "source": [
        "10/2 "
      ],
      "execution_count": null,
      "outputs": [
        {
          "output_type": "execute_result",
          "data": {
            "text/plain": [
              "5.0"
            ]
          },
          "metadata": {
            "tags": []
          },
          "execution_count": 25
        }
      ]
    },
    {
      "cell_type": "markdown",
      "metadata": {
        "id": "8tzq_jOZskxA"
      },
      "source": [
        "El uso de una barra oblicua para dividir números produce un flotante.\n"
      ]
    },
    {
      "cell_type": "code",
      "metadata": {
        "id": "9-w_AFXvtwoo",
        "colab": {
          "base_uri": "https://localhost:8080/",
          "height": 33
        },
        "outputId": "d6cd90cb-bfe1-4b96-a9f6-ace54f1b67bb"
      },
      "source": [
        "(4 + 8) / 2"
      ],
      "execution_count": null,
      "outputs": [
        {
          "output_type": "execute_result",
          "data": {
            "text/plain": [
              "6.0"
            ]
          },
          "metadata": {
            "tags": []
          },
          "execution_count": 26
        }
      ]
    },
    {
      "cell_type": "code",
      "metadata": {
        "id": "Dl5LxkmkuMAI",
        "colab": {
          "base_uri": "https://localhost:8080/",
          "height": 33
        },
        "outputId": "e9650854-4d5a-4dcd-f58f-f19d5e9e5eff"
      },
      "source": [
        "(-7 + 2) * (-4) "
      ],
      "execution_count": null,
      "outputs": [
        {
          "output_type": "execute_result",
          "data": {
            "text/plain": [
              "20"
            ]
          },
          "metadata": {
            "tags": []
          },
          "execution_count": 27
        }
      ]
    },
    {
      "cell_type": "markdown",
      "metadata": {
        "id": "isqww4GmuSO4"
      },
      "source": [
        "Los signos \"+\" también se pueden colocar delante de los números, pero esto no tiene ningún efecto y se usa principalmente para enfatizar que un número es positivo.\n"
      ]
    },
    {
      "cell_type": "code",
      "metadata": {
        "id": "Z0mKdj7lThoh"
      },
      "source": [
        "(+ 3 - 8)*(-4)"
      ],
      "execution_count": null,
      "outputs": []
    },
    {
      "cell_type": "markdown",
      "metadata": {
        "id": "LjigzuOUvVM4"
      },
      "source": [
        "En Python, **la última línea de un mensaje de error indica el tipo de error**.\n",
        "*¡Lea atentamente los mensajes de error, ya que a menudo le dicen cómo  solucionar un programa!* \n",
        "\n",
        "### **Ejemplo**\n"
      ]
    },
    {
      "cell_type": "code",
      "metadata": {
        "id": "4Ky8FUlw_TrV"
      },
      "source": [
        "11/0"
      ],
      "execution_count": null,
      "outputs": []
    },
    {
      "cell_type": "markdown",
      "metadata": {
        "id": "641t__XyrTBe"
      },
      "source": [
        "Las computadoras no pueden almacenar flotantes perfectamente, de la misma manera que no podemos escribir la expansión decimal completa de 1/3 (0.3333333333333333 ...).esto a menudo conduce a errores."
      ]
    },
    {
      "cell_type": "markdown",
      "metadata": {
        "id": "YjuL6cFOBtyo"
      },
      "source": [
        "###**Ejemplo:**"
      ]
    },
    {
      "cell_type": "code",
      "metadata": {
        "id": "OnsA83XLdqY0"
      },
      "source": [
        "1/2 + 1/3 - 5/6"
      ],
      "execution_count": null,
      "outputs": []
    },
    {
      "cell_type": "markdown",
      "metadata": {
        "id": "5j1d-JLkJvbm"
      },
      "source": [
        "# **Potenciación** </font>\n",
        " \n",
        "Además de la suma, la resta, la multiplicación y la división, Python también admite la potenciación , que es elevar un número a la potencia de otro. Esta operación se realiza utilizando dos asteriscos **( \\*\\* )**."
      ]
    },
    {
      "cell_type": "code",
      "metadata": {
        "id": "Wh-Svw3RIj-A",
        "colab": {
          "base_uri": "https://localhost:8080/",
          "height": 33
        },
        "outputId": "7f7840b1-4026-4166-a68a-2832aeb3ac25"
      },
      "source": [
        "2 ** 5 "
      ],
      "execution_count": null,
      "outputs": [
        {
          "output_type": "execute_result",
          "data": {
            "text/plain": [
              "32"
            ]
          },
          "metadata": {
            "tags": []
          },
          "execution_count": 33
        }
      ]
    },
    {
      "cell_type": "code",
      "metadata": {
        "id": "fxVSxKyEMZE2",
        "colab": {
          "base_uri": "https://localhost:8080/",
          "height": 33
        },
        "outputId": "1881cffd-26ca-4aac-fcde-1ba1a02c8258"
      },
      "source": [
        "9 ** (1/2) "
      ],
      "execution_count": null,
      "outputs": [
        {
          "output_type": "execute_result",
          "data": {
            "text/plain": [
              "3.0"
            ]
          },
          "metadata": {
            "tags": []
          },
          "execution_count": 34
        }
      ]
    },
    {
      "cell_type": "markdown",
      "metadata": {
        "id": "LcRHD2KAMjr3"
      },
      "source": [
        "Puedes encadenar potencia. En otras palabras, puedes elevar un número a múltiples potencias, **la asociatividad es de derecha a izquierda**."
      ]
    },
    {
      "cell_type": "code",
      "metadata": {
        "id": "7ypLU5BrMeFQ",
        "colab": {
          "base_uri": "https://localhost:8080/",
          "height": 33
        },
        "outputId": "d84c64ab-10ae-487e-83ec-c7589762f1d2"
      },
      "source": [
        "3**2**3"
      ],
      "execution_count": null,
      "outputs": [
        {
          "output_type": "execute_result",
          "data": {
            "text/plain": [
              "6561"
            ]
          },
          "metadata": {
            "tags": []
          },
          "execution_count": 35
        }
      ]
    },
    {
      "cell_type": "code",
      "metadata": {
        "id": "JopvPgShUJHm",
        "colab": {
          "base_uri": "https://localhost:8080/",
          "height": 33
        },
        "outputId": "ce1eca4c-227e-4516-a489-79a031ad11de"
      },
      "source": [
        "3**(2**3)"
      ],
      "execution_count": null,
      "outputs": [
        {
          "output_type": "execute_result",
          "data": {
            "text/plain": [
              "6561"
            ]
          },
          "metadata": {
            "tags": []
          },
          "execution_count": 36
        }
      ]
    },
    {
      "cell_type": "markdown",
      "metadata": {
        "id": "8P22PRkiN4gO"
      },
      "source": [
        "# **División entera (cociente) y módulo (residuo)** </font>\n",
        "\n",
        "Para determinar el cociente y el residuo de una división, se usan los operadores de división entera y módulo , respectivamente.\n",
        "La división entera se realiza utilizando dos barras diagonales **( // )**.\n",
        "El operador de módulo se lleva a cabo con un símbolo de porcentaje **( % )**.\n",
        "Estos operadores se pueden usar con flotantes y enteros.\n"
      ]
    },
    {
      "cell_type": "markdown",
      "metadata": {
        "id": "2N4wJuRltwcI"
      },
      "source": [
        "## **División entera**"
      ]
    },
    {
      "cell_type": "code",
      "metadata": {
        "id": "gx21GDQYOF_Z",
        "colab": {
          "base_uri": "https://localhost:8080/",
          "height": 33
        },
        "outputId": "16e83623-c320-45f4-9a16-6166e3d208e6"
      },
      "source": [
        "20 // 6"
      ],
      "execution_count": null,
      "outputs": [
        {
          "output_type": "execute_result",
          "data": {
            "text/plain": [
              "3"
            ]
          },
          "metadata": {
            "tags": []
          },
          "execution_count": 42
        }
      ]
    },
    {
      "cell_type": "markdown",
      "metadata": {
        "id": "fijxPl99t3q9"
      },
      "source": [
        "## **módulo**"
      ]
    },
    {
      "cell_type": "code",
      "metadata": {
        "id": "sN9xUuXwtfFL",
        "colab": {
          "base_uri": "https://localhost:8080/",
          "height": 33
        },
        "outputId": "99a5a950-2de3-459d-ad08-27c57af47cf0"
      },
      "source": [
        "20 % 6"
      ],
      "execution_count": null,
      "outputs": [
        {
          "output_type": "execute_result",
          "data": {
            "text/plain": [
              "2"
            ]
          },
          "metadata": {
            "tags": []
          },
          "execution_count": 41
        }
      ]
    },
    {
      "cell_type": "markdown",
      "metadata": {
        "id": "dQGpxcsJh4nt"
      },
      "source": [
        "### **Ejemplo:**\n",
        "\n",
        "Realizar el siguiente cálculo usando Python\n",
        "\n",
        "$$ 2^{400}-3(5-4)+6 $$"
      ]
    },
    {
      "cell_type": "code",
      "metadata": {
        "id": "9B3KJB__HlCA",
        "colab": {
          "base_uri": "https://localhost:8080/",
          "height": 34
        },
        "outputId": "6b238d63-b90e-47bd-ba49-adcf130e39ad"
      },
      "source": [
        "2**2**3\n"
      ],
      "execution_count": null,
      "outputs": [
        {
          "output_type": "execute_result",
          "data": {
            "text/plain": [
              "256"
            ]
          },
          "metadata": {
            "tags": []
          },
          "execution_count": 4
        }
      ]
    },
    {
      "cell_type": "markdown",
      "metadata": {
        "id": "1myRW5TLNKRV"
      },
      "source": [
        "# **PRECEDENCIA DE LOS OPERADORES NUMÉRICOS** </font>\n",
        "\n",
        "Los operadores en Python tienen un orden de prioridad establecido , que determina qué operadores se evalúan primero en una expresión potencialmente ambigua.\n",
        "\n",
        "|    Operación    | Operador |      Asociatividad     | Precedencia |\n",
        "|:---------------:|:--------:|:----------------------:|:-----------:|\n",
        "|  Potenciación |    **    | De derecha a izquierda |      1      |\n",
        "|  Multiplicación |     *    | De izquierda a derecha |      2      |\n",
        "|     División real   |     /    | De izquierda a derecha |      2      |\n",
        "| División entera |    //    | De izquierda a derecha |      2      |\n",
        "|  Módulo o Resto |     %    | De izquierda a derecha |      2      |\n",
        "|       Suma      |     +    | De izquierda a derecha |      3      |\n",
        "|      Resta      |     -    | De izquierda a derecha |      3      |"
      ]
    },
    {
      "cell_type": "code",
      "metadata": {
        "id": "O6Fj-nA6NlqB",
        "colab": {
          "base_uri": "https://localhost:8080/",
          "height": 33
        },
        "outputId": "42354ddd-fc49-460c-9c02-d3ec557b6e7a"
      },
      "source": [
        "3 * 5 + 4"
      ],
      "execution_count": null,
      "outputs": [
        {
          "output_type": "execute_result",
          "data": {
            "text/plain": [
              "19"
            ]
          },
          "metadata": {
            "tags": []
          },
          "execution_count": 47
        }
      ]
    },
    {
      "cell_type": "code",
      "metadata": {
        "id": "aWpYrMCNNqus",
        "colab": {
          "base_uri": "https://localhost:8080/",
          "height": 33
        },
        "outputId": "96a6be68-5b6a-4d5c-9435-36468667a29f"
      },
      "source": [
        "7 % 2 ** 2)+ (3 * 6) + 4 // 2"
      ],
      "execution_count": null,
      "outputs": [
        {
          "output_type": "execute_result",
          "data": {
            "text/plain": [
              "23"
            ]
          },
          "metadata": {
            "tags": []
          },
          "execution_count": 55
        }
      ]
    },
    {
      "cell_type": "markdown",
      "metadata": {
        "id": "t8qPlTtmrTpo"
      },
      "source": [
        "# **Operaciones con enteros**\n",
        "Calcular el valor de la siguiente expresión:\n",
        "$$(5 - 4)(5^3) +(6 \\div 2)$$"
      ]
    },
    {
      "cell_type": "code",
      "metadata": {
        "id": "v0CBq9eHrgTT",
        "colab": {
          "base_uri": "https://localhost:8080/",
          "height": 37
        },
        "outputId": "55c250bd-6414-4c63-e91c-29c1bb4b9e93"
      },
      "source": [
        "(5 - 4)*(5**3) + (6 / 2)"
      ],
      "execution_count": null,
      "outputs": [
        {
          "output_type": "execute_result",
          "data": {
            "image/png": "[encoded data removed]",
            "text/latex": "$$128.0$$",
            "text/plain": [
              "128.0"
            ]
          },
          "metadata": {
            "tags": []
          },
          "execution_count": 31
        }
      ]
    },
    {
      "cell_type": "markdown",
      "metadata": {
        "id": "s70MybdYyA3p"
      },
      "source": [
        "# **Operaciones con fracciones**\n",
        "\n",
        "\n",
        "Calcular el valor de la siguiente expresión:\n",
        "\n",
        "$$ \\left(\\dfrac{1}{2} \\right)  \\left(\\dfrac{3}{4}\\right) + \\dfrac{7}{9} - 3$$"
      ]
    },
    {
      "cell_type": "markdown",
      "metadata": {
        "id": "fyrFgR0zFQk2"
      },
      "source": [
        "#### **Forma 1:** "
      ]
    },
    {
      "cell_type": "code",
      "metadata": {
        "id": "oRc3qqyXyEog",
        "colab": {
          "base_uri": "https://localhost:8080/",
          "height": 37
        },
        "outputId": "59c05095-6383-41da-eabf-aeab777c1909"
      },
      "source": [
        " 1 / 2  *  3 / 4   +  7 / 9  -  3"
      ],
      "execution_count": null,
      "outputs": [
        {
          "output_type": "execute_result",
          "data": {
            "image/png": "[encoded data removed]",
            "text/latex": "$$-1.8472222222222223$$",
            "text/plain": [
              "-1.8472222222222223"
            ]
          },
          "metadata": {
            "tags": []
          },
          "execution_count": 3
        }
      ]
    },
    {
      "cell_type": "markdown",
      "metadata": {
        "id": "0C4vDRydE4KO"
      },
      "source": [
        "#### **Forma 2:** usando la función **Rational** de **SymPy**."
      ]
    },
    {
      "cell_type": "code",
      "metadata": {
        "id": "Hcs0Cpzn1OAj",
        "colab": {
          "base_uri": "https://localhost:8080/",
          "height": 51
        },
        "outputId": "c01739e7-b263-4c98-dfcb-2f518bcf793b"
      },
      "source": [
        "Rational(\"1/2\") * Rational(\"3/4\") + Rational(\"7/9\") - 3"
      ],
      "execution_count": null,
      "outputs": [
        {
          "output_type": "execute_result",
          "data": {
            "image/png": "[encoded data removed]",
            "text/latex": "$\\displaystyle - \\frac{133}{72}$",
            "text/plain": [
              "-133 \n",
              "─────\n",
              "  72 "
            ]
          },
          "metadata": {
            "tags": []
          },
          "execution_count": 5
        }
      ]
    },
    {
      "cell_type": "code",
      "metadata": {
        "colab": {
          "base_uri": "https://localhost:8080/",
          "height": 38
        },
        "id": "dFB1p_ILG0jj",
        "outputId": "a7b77f7f-4acb-4c67-a36b-663ceba3348e"
      },
      "source": [
        "Rational(1,2) * Rational(3,4) + Rational(7,9) - 3"
      ],
      "execution_count": null,
      "outputs": [
        {
          "output_type": "execute_result",
          "data": {
            "image/png": "[encoded data removed]",
            "text/latex": "$$- \\frac{133}{72}$$",
            "text/plain": [
              "-133 \n",
              "─────\n",
              "  72 "
            ]
          },
          "metadata": {
            "tags": []
          },
          "execution_count": 5
        }
      ]
    },
    {
      "cell_type": "markdown",
      "metadata": {
        "id": "N5C1yknyHBIr"
      },
      "source": [
        "#### **Forma 2:** usando la función singleton **S( )** de **SymPy**."
      ]
    },
    {
      "cell_type": "code",
      "metadata": {
        "colab": {
          "base_uri": "https://localhost:8080/",
          "height": 38
        },
        "id": "_v_GpTBzE_E5",
        "outputId": "72afdd19-59d8-4c7a-e18e-aae9f6652356"
      },
      "source": [
        "S(\"1/2\") * S(\"3/4\") + S(\"7/9\") - 3"
      ],
      "execution_count": null,
      "outputs": [
        {
          "output_type": "execute_result",
          "data": {
            "image/png": "[encoded data removed]",
            "text/latex": "$$- \\frac{133}{72}$$",
            "text/plain": [
              "-133 \n",
              "─────\n",
              "  72 "
            ]
          },
          "metadata": {
            "tags": []
          },
          "execution_count": 8
        }
      ]
    },
    {
      "cell_type": "markdown",
      "metadata": {
        "id": "RSe_cp6zHiFP"
      },
      "source": [
        "# **Operaciones con números irracionales**\n",
        "Simplifica la siguiente expresión:\n",
        "\n",
        "$$\\pi + 2\\sqrt{2}-3\\sqrt{2}-e^2$$"
      ]
    },
    {
      "cell_type": "code",
      "metadata": {
        "id": "lO6lf_arHoec",
        "colab": {
          "base_uri": "https://localhost:8080/",
          "height": 38
        },
        "outputId": "4a6090f8-9dbd-42b9-cfad-f9ab1b75fa25"
      },
      "source": [
        "pi + 2*sqrt(2)-3*sqrt(2) +E**2"
      ],
      "execution_count": null,
      "outputs": [
        {
          "output_type": "execute_result",
          "data": {
            "image/png": "[encoded data removed]",
            "text/latex": "$$- \\sqrt{2} + \\pi + e^{2}$$",
            "text/plain": [
              "           2\n",
              "-√2 + π + ℯ "
            ]
          },
          "metadata": {
            "tags": []
          },
          "execution_count": 5
        }
      ]
    },
    {
      "cell_type": "markdown",
      "metadata": {
        "id": "ZkHwJBvAIUPs"
      },
      "source": [
        "# **Radicación**\n",
        "\n",
        "### **Ejemplo 1**\n",
        "\n",
        "Calcula el valor de la siguiente expresión:\n",
        "\n",
        "$$\\dfrac{\\sqrt[3]{27}+\\sqrt[4]{16}}{\\sqrt[3]{64}\\sqrt{1000}}$$"
      ]
    },
    {
      "cell_type": "code",
      "metadata": {
        "id": "4ClTOlzmJ0Ar",
        "colab": {
          "base_uri": "https://localhost:8080/",
          "height": 40
        },
        "outputId": "aad183fb-6d76-49c6-a848-a8c289e70433"
      },
      "source": [
        "(root(27,3) + root(16,4))/(root(64,3)*root(1000,2))"
      ],
      "execution_count": null,
      "outputs": [
        {
          "output_type": "execute_result",
          "data": {
            "image/png": "[encoded data removed]",
            "text/latex": "$$\\frac{\\sqrt{10}}{80}$$",
            "text/plain": [
              "√10\n",
              "───\n",
              " 80"
            ]
          },
          "metadata": {
            "tags": []
          },
          "execution_count": 32
        }
      ]
    },
    {
      "cell_type": "markdown",
      "metadata": {
        "id": "tEk7lt2zeHDe"
      },
      "source": [
        "### **Ejemplo 2**\n",
        "\n",
        "Simplifica la siguiente expresión donde $x$ pertenece al conjunto de los números reales:\n",
        "\n",
        "$$\\sqrt{x^2}$$"
      ]
    },
    {
      "cell_type": "code",
      "metadata": {
        "id": "m2DIHR6YHa-g",
        "colab": {
          "base_uri": "https://localhost:8080/",
          "height": 38
        },
        "outputId": "337e4e60-d810-4c27-fdcf-04604159bf0a"
      },
      "source": [
        "x,y = symbols(\"x y \", real= True)\n",
        "root(x**2,2)"
      ],
      "execution_count": null,
      "outputs": [
        {
          "output_type": "execute_result",
          "data": {
            "image/png": "[encoded data removed]",
            "text/latex": "$$\\left|{x}\\right|$$",
            "text/plain": [
              "│x│"
            ]
          },
          "metadata": {
            "tags": []
          },
          "execution_count": 8
        }
      ]
    },
    {
      "cell_type": "markdown",
      "metadata": {
        "id": "33nZQycTe35H"
      },
      "source": [
        "### **Ejemplo 3**\n",
        "\n",
        "Simplifica la siguiente expresión siendo $x$  un número positivo:\n",
        "\n",
        "$$\\sqrt{x^2}$$"
      ]
    },
    {
      "cell_type": "code",
      "metadata": {
        "id": "TWZWYTc_hU8U",
        "colab": {
          "base_uri": "https://localhost:8080/",
          "height": 40
        },
        "outputId": "2445cc65-b817-4d33-d2d3-aaff0a172a61"
      },
      "source": [
        "x = Symbol(\"x\", positive= True)\n",
        "root(x**2,2)"
      ],
      "execution_count": null,
      "outputs": [
        {
          "output_type": "execute_result",
          "data": {
            "image/png": "[encoded data removed]",
            "text/latex": "$$x$$",
            "text/plain": [
              "x"
            ]
          },
          "metadata": {
            "tags": []
          },
          "execution_count": 6
        }
      ]
    },
    {
      "cell_type": "markdown",
      "metadata": {
        "id": "P32KeD6jcy9N"
      },
      "source": [
        "### **Ejemplo 4**\n",
        "\n",
        "Cálcula el valor de la siguiente expresión:\n",
        "\n",
        "$$\\sqrt[4]{\\dfrac{3a^6b^5}{16a^{-6}b^{13}}}$$"
      ]
    },
    {
      "cell_type": "code",
      "metadata": {
        "id": "JhkG3Pd3zj_6",
        "colab": {
          "base_uri": "https://localhost:8080/",
          "height": 44
        },
        "outputId": "1131d5e0-fda1-4376-8752-3971798f0608"
      },
      "source": [
        "a,b = symbols(\"a b\",positive=True)\n",
        "root(3*a**6*b**5/16*a**-6*b**13,4)"
      ],
      "execution_count": null,
      "outputs": [
        {
          "output_type": "execute_result",
          "data": {
            "image/png": "[encoded data removed]",
            "text/latex": "$$\\frac{\\sqrt[4]{3} b^{\\frac{9}{2}}}{2}$$",
            "text/plain": [
              "4 ___  9/2\n",
              "╲╱ 3 ⋅b   \n",
              "──────────\n",
              "    2     "
            ]
          },
          "metadata": {
            "tags": []
          },
          "execution_count": 5
        }
      ]
    },
    {
      "cell_type": "markdown",
      "metadata": {
        "id": "xWZtdqVqKcIO"
      },
      "source": [
        "# **Logaritmación**\n",
        "\n",
        "Cálcula el valor de la siguiente expresión:\n",
        "\n",
        "$$\\log_{3}{81} - \\log_{2}{\\left(\\dfrac{1}{128}\\right)}$$"
      ]
    },
    {
      "cell_type": "code",
      "metadata": {
        "id": "xe141iBHKcIZ",
        "colab": {
          "base_uri": "https://localhost:8080/"
        },
        "outputId": "59353223-2117-45f9-c19d-52f1b6aea399"
      },
      "source": [
        "log(81,3)-log(Rational(\"1/128\"),2)"
      ],
      "execution_count": null,
      "outputs": [
        {
          "output_type": "execute_result",
          "data": {
            "image/png": "[encoded data removed]",
            "text/latex": "$$11$$",
            "text/plain": [
              "11"
            ]
          },
          "metadata": {
            "tags": []
          },
          "execution_count": 10
        }
      ]
    },
    {
      "cell_type": "markdown",
      "metadata": {
        "id": "2t-i66Pg_mM7"
      },
      "source": [
        "# **CONVERSIONES**\n",
        "\n",
        "###**Conversión de fracción a decimal**\n",
        "Converte la fracción $1/7$ a decimal"
      ]
    },
    {
      "cell_type": "code",
      "metadata": {
        "colab": {
          "base_uri": "https://localhost:8080/",
          "height": 37
        },
        "id": "Gchs_tbR9Icm",
        "outputId": "a077206b-f7e3-4fae-b522-5483ccc44ff2"
      },
      "source": [
        "1/7"
      ],
      "execution_count": null,
      "outputs": [
        {
          "output_type": "execute_result",
          "data": {
            "image/png": "[encoded data removed]",
            "text/latex": "$\\displaystyle 0.142857142857143$",
            "text/plain": [
              "0.14285714285714285"
            ]
          },
          "metadata": {
            "tags": []
          },
          "execution_count": 18
        }
      ]
    },
    {
      "cell_type": "markdown",
      "metadata": {
        "id": "4odUqOTV-7fr"
      },
      "source": [
        "###**Conversión de decimal a fracción**\n",
        "Converte el decimal $2,45678$ a fracción:\n"
      ]
    },
    {
      "cell_type": "code",
      "metadata": {
        "colab": {
          "base_uri": "https://localhost:8080/",
          "height": 51
        },
        "id": "Sv_QkJ-B-7f4",
        "outputId": "a0af4658-0575-4854-e0f2-f93b77d8ea7a"
      },
      "source": [
        "sympify('12.452',rational=True)"
      ],
      "execution_count": null,
      "outputs": [
        {
          "output_type": "execute_result",
          "data": {
            "image/png": "[encoded data removed]",
            "text/latex": "$\\displaystyle \\frac{3113}{250}$",
            "text/plain": [
              "3113\n",
              "────\n",
              "250 "
            ]
          },
          "metadata": {
            "tags": []
          },
          "execution_count": 29
        }
      ]
    },
    {
      "cell_type": "markdown",
      "metadata": {
        "id": "jTtXlZ4W_460"
      },
      "source": [
        "###**Conversión de irracional a decimal**\n",
        "Convierte el racional $\\pi$ a decimal, con $100$ cifras significativas:\n"
      ]
    },
    {
      "cell_type": "code",
      "metadata": {
        "colab": {
          "base_uri": "https://localhost:8080/",
          "height": 37
        },
        "id": "0O8Zf1GC_461",
        "outputId": "e548668b-7e54-4330-dc34-2fd27fd74a47"
      },
      "source": [
        "pi.evalf(100) "
      ],
      "execution_count": null,
      "outputs": [
        {
          "output_type": "execute_result",
          "data": {
            "image/png": "[encoded data removed]",
            "text/latex": "$\\displaystyle 3.141592653589793238462643383279502884197169399375105820974944592307816406286208998628034825342117068$",
            "text/plain": [
              "3.1415926535897932384626433832795028841971693993751058209749445923078164062862\n",
              "08998628034825342117068"
            ]
          },
          "metadata": {
            "tags": []
          },
          "execution_count": 22
        }
      ]
    },
    {
      "cell_type": "markdown",
      "metadata": {
        "id": "O6GrynaRk4pJ"
      },
      "source": [
        "\n",
        "# **VARIABLES**\n",
        "\n",
        "Las variables juegan un papel muy importante en la mayoría de los lenguajes de programación, y Python no es una excepción . Una variable le permite almacenar un valor asignándolo a un nombre, que puede usarse para referirse al valor más adelante en el programa.\n",
        "\n",
        "#**Asignación de variables** </font>\n",
        "\n",
        "Para asignar una variable , use un signo igual . A diferencia de la mayoría de las líneas de código que hemos visto hasta ahora, no produce ningún resultado en la consola de Python.\n"
      ]
    },
    {
      "cell_type": "code",
      "metadata": {
        "id": "AT4-XhnplAmM"
      },
      "source": [
        "x = 7 \n",
        "print (x) "
      ],
      "execution_count": null,
      "outputs": []
    },
    {
      "cell_type": "code",
      "metadata": {
        "id": "Cm97ZokxlS-V",
        "colab": {
          "base_uri": "https://localhost:8080/",
          "height": 33
        },
        "outputId": "93e8f36b-9f33-4548-b853-ce61428687ea"
      },
      "source": [
        "print (x + 3) "
      ],
      "execution_count": null,
      "outputs": [
        {
          "output_type": "stream",
          "text": [
            "10\n"
          ],
          "name": "stdout"
        }
      ]
    },
    {
      "cell_type": "markdown",
      "metadata": {
        "id": "Q5dF4Uv5lRYe"
      },
      "source": [
        "Puede usar variables para realizar las operaciones correspondientes, tal como lo hizo con números y cadenas. la variable almacena su valor."
      ]
    },
    {
      "cell_type": "code",
      "metadata": {
        "id": "TWRzbSBxlej5",
        "colab": {
          "base_uri": "https://localhost:8080/",
          "height": 33
        },
        "outputId": "da6e7c93-3422-4e17-82af-f9164c4dd845"
      },
      "source": [
        " cadena = \"hola\" \n",
        " print (cadena * 3)"
      ],
      "execution_count": null,
      "outputs": [
        {
          "output_type": "stream",
          "text": [
            "holaholahola\n"
          ],
          "name": "stdout"
        }
      ]
    },
    {
      "cell_type": "markdown",
      "metadata": {
        "id": "SVz1hHAemDRY"
      },
      "source": [
        "\n",
        "Las variables se pueden reasignar tantas veces como desee, para cambiar su valor.\n",
        "En Python, las variables no tienen tipos específicos, por lo que puede asignar una cadena a una variable y luego asignar un número entero a la misma variable ."
      ]
    },
    {
      "cell_type": "code",
      "metadata": {
        "id": "NKuSWOVSmENO",
        "colab": {
          "base_uri": "https://localhost:8080/",
          "height": 33
        },
        "outputId": "0bea3eb9-71c4-4762-a63b-b781a93a8e3a"
      },
      "source": [
        "x = 123.456 \n",
        "print (x) "
      ],
      "execution_count": null,
      "outputs": [
        {
          "output_type": "stream",
          "text": [
            "123.456\n"
          ],
          "name": "stdout"
        }
      ]
    },
    {
      "cell_type": "code",
      "metadata": {
        "id": "YwsNdUl2mNW0",
        "colab": {
          "base_uri": "https://localhost:8080/",
          "height": 33
        },
        "outputId": "91b54783-a3c7-499e-c5cd-91f9cfc22992"
      },
      "source": [
        "x = \"Esto es una cadena \" \n",
        "print (x + \"!\") "
      ],
      "execution_count": null,
      "outputs": [
        {
          "output_type": "stream",
          "text": [
            "Esto es una cadena !\n"
          ],
          "name": "stdout"
        }
      ]
    },
    {
      "cell_type": "code",
      "metadata": {
        "id": "ihIpudwTmkAo",
        "colab": {
          "base_uri": "https://localhost:8080/",
          "height": 35
        },
        "outputId": "d3fb99c9-aaa5-40c9-de5d-afc8d316cd47"
      },
      "source": [
        "x = 5\n",
        "y = 7\n",
        "print(x+y)"
      ],
      "execution_count": null,
      "outputs": [
        {
          "output_type": "stream",
          "text": [
            "12\n"
          ],
          "name": "stdout"
        }
      ]
    },
    {
      "cell_type": "markdown",
      "metadata": {
        "id": "INqlZbvQnSJx"
      },
      "source": [
        "# **Nombres adecuados para variables** </font>\n",
        "\n",
        "Se aplican ciertas restricciones con respecto a los caracteres que se pueden usar en los nombres de variables de Python . Los únicos caracteres permitidos son letras, números y guiones bajos. Además, no pueden comenzar con números.\n",
        "No seguir estas reglas da como resultado errores."
      ]
    },
    {
      "cell_type": "code",
      "metadata": {
        "id": "FtrG690dnV-o"
      },
      "source": [
        "this_is_a_normal_name = 7 "
      ],
      "execution_count": null,
      "outputs": []
    },
    {
      "cell_type": "code",
      "metadata": {
        "id": "oc4PDsThnkjt"
      },
      "source": [
        "123abc = 7 "
      ],
      "execution_count": null,
      "outputs": []
    },
    {
      "cell_type": "code",
      "metadata": {
        "id": "maLkFKornp1p"
      },
      "source": [
        "los espacios no están permitidos = 3"
      ],
      "execution_count": null,
      "outputs": []
    },
    {
      "cell_type": "markdown",
      "metadata": {
        "id": "HmgbjDKHno-c"
      },
      "source": [
        "Python es un lenguaje de programación sensible a mayúsculas y minúsculas.\n",
        "por ejemplo, **Numero** y **numero** son dos nombres de variables diferentes en Python."
      ]
    },
    {
      "cell_type": "markdown",
      "metadata": {
        "id": "fJRSPlKmtmwA"
      },
      "source": [
        "# **Palabras reservadas de Python**\n",
        "En todos los lenguajes de programación existen un conjunto de palabras que son exclusivas del lenguaje. Python posee una lista de palabras reservadas que no deben ser utilizadas para otro propósito que no sea el que python les ha dado.\n",
        "\n",
        "\n",
        "| Lista 1 | Lista 2 |  Lista 3 |  Lista 4 |\n",
        "|:-------:|:-------:|:--------:|:--------:|\n",
        "|  False  |   def   |    if    |   raise  |\n",
        "|   None  |   del   |  import  |  return  |\n",
        "|   True  |   elif  |    in    |    try   |\n",
        "|   and   |   else  |    is    |   while  |\n",
        "|    as   |  except |  lambda  |   with   |\n",
        "|  assert | finally | nonlocal |   yield  |\n",
        "|  break  |   for   |    not   | continue |\n",
        "|  class  |   from  |    or    |   pass   |"
      ]
    },
    {
      "cell_type": "code",
      "metadata": {
        "id": "B9nIVtPR9hsB"
      },
      "source": [
        "help()"
      ],
      "execution_count": null,
      "outputs": []
    },
    {
      "cell_type": "code",
      "metadata": {
        "id": "yB79F49woO2X"
      },
      "source": [
        "nombre variable = 3"
      ],
      "execution_count": null,
      "outputs": []
    },
    {
      "cell_type": "code",
      "metadata": {
        "id": "RJU4bZUdn0mj"
      },
      "source": [
        "variable_1 = 3"
      ],
      "execution_count": null,
      "outputs": []
    },
    {
      "cell_type": "code",
      "metadata": {
        "id": "ie4O9v3hUkB3"
      },
      "source": [
        "lambda = 3"
      ],
      "execution_count": null,
      "outputs": []
    },
    {
      "cell_type": "code",
      "metadata": {
        "id": "2pQhLEP6oeU1"
      },
      "source": [
        "variable-final = 3"
      ],
      "execution_count": null,
      "outputs": []
    },
    {
      "cell_type": "markdown",
      "metadata": {
        "id": "PAxzVymYV9b_"
      },
      "source": [
        "Intentar hacer referencia a una variable que no se ha asignado provoca un error."
      ]
    },
    {
      "cell_type": "code",
      "metadata": {
        "id": "aO37ELkRWLVW"
      },
      "source": [
        "print(bar) "
      ],
      "execution_count": null,
      "outputs": []
    },
    {
      "cell_type": "markdown",
      "metadata": {
        "id": "yScvuswDr-0e"
      },
      "source": [
        "# **OPERADORES DE ASIGNACIÓN** </font>\n",
        "Los operadores en el lugar del igual le permiten escribir código como 'x = x + 3' de manera más concisa, como 'x + = 3'.\n",
        "Lo mismo es posible con otros operadores como -, *, / y % también.\n",
        "#### <center> **TABLA DE OPERADORES DE ASIGNACIÓN** </center>\n",
        "| Operador |      Nombre     |  Ejemplo | Equivalencia |\n",
        "|:--------:|:---------------:|:--------:|:------------:|\n",
        "|    +=    |       Suma      |  x += 2  |   x = x + 2  |\n",
        "|    -=    |      Resta      |  x -= 2  |   x = x - 2  |\n",
        "|    *=    |     Producto    |  x *= 2  |    x = x * 2 |\n",
        "|    **=   |     Potencia    |  x **= 2 |  x = x ** 2  |\n",
        "|    /=    |  División real  |  x /= 2  |   x = x  / 2 |\n",
        "|    //=   | División entera |  x //= 2 |  x = x  //  2|\n",
        "|    % =   |      Resto      |  x %= 2  |   x = x  %  2|"
      ]
    },
    {
      "cell_type": "code",
      "metadata": {
        "id": "1ZU2jC0FsLdV"
      },
      "source": [
        "x = 2 \n",
        "print (x) "
      ],
      "execution_count": null,
      "outputs": []
    },
    {
      "cell_type": "code",
      "metadata": {
        "id": "Wv48c4lIjx3-"
      },
      "source": [
        "x = x+3\n",
        "print(x)"
      ],
      "execution_count": null,
      "outputs": []
    },
    {
      "cell_type": "code",
      "metadata": {
        "id": "RUSnvoCh5-hy"
      },
      "source": [
        "x = 2\n",
        "x += 3\n",
        "print(x)"
      ],
      "execution_count": null,
      "outputs": []
    },
    {
      "cell_type": "code",
      "metadata": {
        "id": "RjwK8BMNsahU",
        "colab": {
          "base_uri": "https://localhost:8080/"
        },
        "outputId": "0317ae3a-b766-48a7-fbbf-461508072e83"
      },
      "source": [
        "y = 2\n",
        "y /= 3 \n",
        "print (y) "
      ],
      "execution_count": null,
      "outputs": [
        {
          "output_type": "stream",
          "text": [
            "0.6666666666666666\n"
          ],
          "name": "stdout"
        }
      ]
    },
    {
      "cell_type": "markdown",
      "metadata": {
        "id": "5JHA_YX5sq3k"
      },
      "source": [
        "## **Ejemplo**"
      ]
    },
    {
      "cell_type": "code",
      "metadata": {
        "id": "oK4ZGBqjsszJ"
      },
      "source": [
        "x = 4 \n",
        "x *= 3 \n",
        "print (x)"
      ],
      "execution_count": null,
      "outputs": []
    },
    {
      "cell_type": "markdown",
      "metadata": {
        "id": "Fny_SDHPtH4h"
      },
      "source": [
        "\n",
        "Estos operadores también se pueden usar en tipos distintos de objetos, como cadenas ."
      ]
    },
    {
      "cell_type": "code",
      "metadata": {
        "id": "_1k-MqaVtOB8",
        "colab": {
          "base_uri": "https://localhost:8080/"
        },
        "outputId": "12d6da86-f741-4da2-c110-b0801c3bd138"
      },
      "source": [
        "x = \"spam\" \n",
        "print (x)"
      ],
      "execution_count": null,
      "outputs": [
        {
          "output_type": "stream",
          "text": [
            "spam\n"
          ],
          "name": "stdout"
        }
      ]
    },
    {
      "cell_type": "code",
      "metadata": {
        "id": "vwcNGxoItUIY",
        "colab": {
          "base_uri": "https://localhost:8080/"
        },
        "outputId": "3c443aa6-f878-49b5-ef60-cc9308e96115"
      },
      "source": [
        "x += \"egg\" \n",
        "print (x)"
      ],
      "execution_count": null,
      "outputs": [
        {
          "output_type": "stream",
          "text": [
            "spamegg\n"
          ],
          "name": "stdout"
        }
      ]
    },
    {
      "cell_type": "markdown",
      "metadata": {
        "id": "i2IK4wiztpEu"
      },
      "source": [
        "## **Ejemplo**"
      ]
    },
    {
      "cell_type": "code",
      "metadata": {
        "id": "3gK3gANCthtD"
      },
      "source": [
        "x = \"hola\" \n",
        "x *= 3\n",
        "print(x)"
      ],
      "execution_count": null,
      "outputs": []
    },
    {
      "cell_type": "markdown",
      "metadata": {
        "id": "iWNDQnt8Z3Bc"
      },
      "source": [
        "## **Ejemplo**"
      ]
    },
    {
      "cell_type": "code",
      "metadata": {
        "id": "yYpL28ZRtx6F"
      },
      "source": [
        "x = 7 \n",
        "x %= 2 \n",
        "print(x)"
      ],
      "execution_count": null,
      "outputs": []
    },
    {
      "cell_type": "markdown",
      "metadata": {
        "id": "shGfKKMa-VnS"
      },
      "source": [
        "# **OPERADORES DE COMPARACIÓN**\n",
        "\n",
        "Se utilizan para comparar dos o mas valores y sus valor es un booleano."
      ]
    },
    {
      "cell_type": "markdown",
      "metadata": {
        "id": "0Hu21mZE-0dC"
      },
      "source": [
        "#### <center> **TABLA DE OPERADORES DE COMPARACIÓN** </center>\n",
        "| Operador |         Descripción        |     Ejemplo     |\n",
        "|:--------:|:--------------------------:|:---------------:|\n",
        "|    ==    |     ¿son iguales a y b?    | 5 == 3   False  |\n",
        "|    !=    |    ¿son distintos a y b?   |  5 != 3  True   |\n",
        "|     <    |     ¿es a menor que b?     |  5 < 3  False   |\n",
        "|     >    |     ¿es a mayor que b?     |   5 > 3  True   |\n",
        "|    <=    | ¿es a menor o igual que b? |  5 <= 5  True   |\n",
        "|    >=    | ¿es a mayor o igual que b? |   5 >= 3  True  |"
      ]
    },
    {
      "cell_type": "markdown",
      "metadata": {
        "id": "yDUgDyJcDtsQ"
      },
      "source": [
        "#  **Creación de valores booleanos** </font>"
      ]
    },
    {
      "cell_type": "code",
      "metadata": {
        "id": "HxiCJGEF-UAa",
        "colab": {
          "base_uri": "https://localhost:8080/",
          "height": 33
        },
        "outputId": "6294ce4f-e6e3-4d5b-ac76-6b2fc1177c26"
      },
      "source": [
        "booleano = True\n",
        "booleano"
      ],
      "execution_count": null,
      "outputs": [
        {
          "output_type": "execute_result",
          "data": {
            "text/plain": [
              "True"
            ]
          },
          "metadata": {
            "tags": []
          },
          "execution_count": 1
        }
      ]
    },
    {
      "cell_type": "code",
      "metadata": {
        "id": "6Zej9Xu-DUTI",
        "colab": {
          "base_uri": "https://localhost:8080/",
          "height": 33
        },
        "outputId": "eae4822c-2145-4f11-da54-405b33f89c06"
      },
      "source": [
        "2 == 3 "
      ],
      "execution_count": null,
      "outputs": [
        {
          "output_type": "execute_result",
          "data": {
            "text/plain": [
              "False"
            ]
          },
          "metadata": {
            "tags": []
          },
          "execution_count": 2
        }
      ]
    },
    {
      "cell_type": "markdown",
      "metadata": {
        "id": "tatn8SrjERPL"
      },
      "source": [
        "Tenga cuidado de no confundir la asignación **( = )** con la comparación **( == )**."
      ]
    },
    {
      "cell_type": "markdown",
      "metadata": {
        "id": "dXSA4ZdPHSwf"
      },
      "source": [
        "# **Comparación de expresiones** </font>"
      ]
    },
    {
      "cell_type": "code",
      "metadata": {
        "id": "yKSeY2JfEuqU",
        "colab": {
          "base_uri": "https://localhost:8080/",
          "height": 33
        },
        "outputId": "563e5da5-ed7e-431b-f86b-6d5e0f4d227c"
      },
      "source": [
        "1 != 1 "
      ],
      "execution_count": null,
      "outputs": [
        {
          "output_type": "execute_result",
          "data": {
            "text/plain": [
              "False"
            ]
          },
          "metadata": {
            "tags": []
          },
          "execution_count": 84
        }
      ]
    },
    {
      "cell_type": "code",
      "metadata": {
        "id": "cYDwx41nFJ_b",
        "colab": {
          "base_uri": "https://localhost:8080/",
          "height": 33
        },
        "outputId": "d62474cc-9fb6-4c8f-a419-6b3509551efa"
      },
      "source": [
        "7  > 5 "
      ],
      "execution_count": null,
      "outputs": [
        {
          "output_type": "execute_result",
          "data": {
            "text/plain": [
              "True"
            ]
          },
          "metadata": {
            "tags": []
          },
          "execution_count": 83
        }
      ]
    }
  ]
}